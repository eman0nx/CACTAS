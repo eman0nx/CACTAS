{
 "cells": [
  {
   "cell_type": "code",
   "execution_count": 8,
   "id": "c05b5379",
   "metadata": {},
   "outputs": [],
   "source": [
    "import numpy as np\n",
    "import matplotlib.pyplot as plt\n",
    "from PIL import Image\n",
    "import random\n",
    "import pandas as pd\n",
    "from skimage.transform import resize\n",
    "import nrrd\n",
    "import os\n",
    "import glob\n",
    "import mahotas as mh"
   ]
  },
  {
   "cell_type": "code",
   "execution_count": 4,
   "id": "799803cd",
   "metadata": {},
   "outputs": [],
   "source": [
    "DATAPATH = '/raid/mpsych/CACTAS/DATA/'\n",
    "ESUSPATH = '/raid/mpsych/CACTAS/DATA/ESUS/'\n",
    "IMGPATH = '/raid/mpsych/CACTAS/DATA/ESUS_NPY/IMG'\n",
    "LBPATH = '/raid/mpsych/CACTAS/DATA/ESUS_NPY/LABEL'"
   ]
  },
  {
   "cell_type": "code",
   "execution_count": null,
   "id": "d7ea953f",
   "metadata": {},
   "outputs": [],
   "source": [
    "# Convert nrrd to npy and save file"
   ]
  },
  {
   "cell_type": "code",
   "execution_count": 3,
   "id": "53df708b",
   "metadata": {},
   "outputs": [],
   "source": [
    "for f in os.listdir(ESUSPATH):\n",
    "    if f.endswith('img.nrrd'):\n",
    "        current_id = f.split('.')[0]\n",
    "        im, h = nrrd.read(ESUSPATH + f'{current_id}.img.nrrd')\n",
    "        imarray = np.array(im)\n",
    "        \n",
    "        #if f'{current_id}.npy' not in DATAPATH + 'ESUS_NPY/IMG':\n",
    "        #    np.save(DATAPATH + 'ESUS_NPY/IMG' + f'/{current_id}.npy', imarray)\n",
    "    if f.endswith('seg.nrrd'):\n",
    "        current_id = f.split('.')[0]\n",
    "        im, h = nrrd.read(ESUSPATH + f'{current_id}.img.nrrd')\n",
    "        imarray = np.array(im)\n",
    "\n",
    "        #if f'{current_id}.npy' not in DATAPATH + 'ESUS_NPY/LABEL':\n",
    "        #    np.save(DATAPATH + 'ESUS_NPY/LABEL' + f'/{current_id}.npy', imarray)"
   ]
  },
  {
   "cell_type": "code",
   "execution_count": 2,
   "id": "3f5bcfa3",
   "metadata": {},
   "outputs": [
    {
     "data": {
      "text/plain": [
       "\"\\nfor i in range(5):\\n    for f in os.listdir(IMGPATH):\\n        current_id = f.split('.')[0]\\n        img = np.load(IMGPATH + f'/{current_id}.npy', allow_pickle=True)\\n\\n        print(img.shape)\\n        print(img)\\n\""
      ]
     },
     "execution_count": 2,
     "metadata": {},
     "output_type": "execute_result"
    }
   ],
   "source": [
    "'''\n",
    "for i in range(5):\n",
    "    for f in os.listdir(IMGPATH):\n",
    "        current_id = f.split('.')[0]\n",
    "        img = np.load(IMGPATH + f'/{current_id}.npy', allow_pickle=True)\n",
    "\n",
    "        print(img.shape)\n",
    "        print(img)\n",
    "'''"
   ]
  },
  {
   "cell_type": "code",
   "execution_count": null,
   "id": "f2333323",
   "metadata": {},
   "outputs": [],
   "source": [
    "# make array list"
   ]
  },
  {
   "cell_type": "code",
   "execution_count": 29,
   "id": "252b4e29",
   "metadata": {},
   "outputs": [],
   "source": [
    "loadedimages = []\n",
    "\n",
    "for f in os.listdir(IMGPATH):\n",
    "    current_id = f.split('.')[0]\n",
    "    loadedimages.append(np.load(IMGPATH + f'/{current_id}.npy', allow_pickle=True).copy())\n",
    "\n",
    "#imgs = np.asarray(loadedimages)"
   ]
  },
  {
   "cell_type": "code",
   "execution_count": null,
   "id": "92ab1f03",
   "metadata": {},
   "outputs": [],
   "source": [
    "loadedmasks = []\n",
    "\n",
    "for f in os.listdir(LBPATH):\n",
    "    current_id = f.split('.')[0]\n",
    "    loadedmasks += [np.load(LBPATH + f'/{current_id}.npy', allow_pickle=True).copy()]\n",
    "    \n",
    "masks = np.asarray(loadedmasks)"
   ]
  },
  {
   "cell_type": "code",
   "execution_count": null,
   "id": "15967b0d",
   "metadata": {},
   "outputs": [],
   "source": [
    "masks"
   ]
  },
  {
   "cell_type": "code",
   "execution_count": 65,
   "id": "134fb99f",
   "metadata": {},
   "outputs": [],
   "source": [
    "DATAPATH = '/raid/mpsych/CACTAS/DATA/ESUS/'"
   ]
  },
  {
   "cell_type": "code",
   "execution_count": 66,
   "id": "61c260e3",
   "metadata": {},
   "outputs": [],
   "source": [
    "DATASETS = sorted(v for v in os.listdir(DATAPATH))"
   ]
  },
  {
   "cell_type": "code",
   "execution_count": 77,
   "id": "2a59347b",
   "metadata": {},
   "outputs": [],
   "source": [
    "len_d = len(DATASETS)"
   ]
  },
  {
   "cell_type": "code",
   "execution_count": 78,
   "id": "27d3a21f",
   "metadata": {},
   "outputs": [
    {
     "data": {
      "text/plain": [
       "66"
      ]
     },
     "execution_count": 78,
     "metadata": {},
     "output_type": "execute_result"
    }
   ],
   "source": [
    "len_d // 2"
   ]
  },
  {
   "cell_type": "code",
   "execution_count": 12,
   "id": "e8a841ae",
   "metadata": {},
   "outputs": [
    {
     "ename": "NameError",
     "evalue": "name 'image_cropped' is not defined",
     "output_type": "error",
     "traceback": [
      "\u001b[0;31m---------------------------------------------------------------------------\u001b[0m",
      "\u001b[0;31mNameError\u001b[0m                                 Traceback (most recent call last)",
      "\u001b[0;32m/tmp/ipykernel_4191221/1987843777.py\u001b[0m in \u001b[0;36m<module>\u001b[0;34m\u001b[0m\n\u001b[1;32m    156\u001b[0m \u001b[0;34m\u001b[0m\u001b[0m\n\u001b[1;32m    157\u001b[0m \u001b[0;34m\u001b[0m\u001b[0m\n\u001b[0;32m--> 158\u001b[0;31m             \u001b[0mimage_patches\u001b[0m\u001b[0;34m.\u001b[0m\u001b[0mappend\u001b[0m\u001b[0;34m(\u001b[0m\u001b[0mimage_cropped\u001b[0m\u001b[0;34m)\u001b[0m\u001b[0;34m\u001b[0m\u001b[0;34m\u001b[0m\u001b[0m\n\u001b[0m\u001b[1;32m    159\u001b[0m             \u001b[0mlabel_patches\u001b[0m\u001b[0;34m.\u001b[0m\u001b[0mappend\u001b[0m\u001b[0;34m(\u001b[0m\u001b[0msingle_label_cropped\u001b[0m\u001b[0;34m)\u001b[0m\u001b[0;34m\u001b[0m\u001b[0;34m\u001b[0m\u001b[0m\n",
      "\u001b[0;31mNameError\u001b[0m: name 'image_cropped' is not defined"
     ]
    }
   ],
   "source": [
    "images = []\n",
    "labels = []\n",
    "\n",
    "image_patches = []\n",
    "label_patches = []\n",
    "\n",
    "DATAPATH = '/raid/mpsych/CACTAS/DATA/ESUS/'\n",
    "DATASETS = sorted(v for v in os.listdir(DATAPATH))\n",
    "for i,d in enumerate(DATASETS):\n",
    "    #print(i, d) # 0 - 131\n",
    "    D = DATASETS[i]\n",
    "\n",
    "    files = glob.glob(DATAPATH + \"*.nrrd\")\n",
    "    label_file = [os.path.join(DATAPATH, D, s) for s in files if 'seg' in s]\n",
    "    image_file = [os.path.join(DATAPATH, D, i) for i in files if not 'seg' in i]\n",
    "\n",
    "    label_file = [s for s in label_file if os.path.isfile(s)][i]\n",
    "    image_file = [i for i in image_file if os.path.isfile(i)][i]\n",
    "\n",
    "    #print(i)\n",
    "    #print(image_file)\n",
    "    #print(label_file)\n",
    "\n",
    "    label_with_header = nrrd.read(label_file)\n",
    "    image_with_header = nrrd.read(image_file)\n",
    "\n",
    "    label = label_with_header[0]\n",
    "    image = image_with_header[0]\n",
    "    #print(\"img, label: \", image, label)\n",
    "\n",
    "    # normalize grayscale to 0..1\n",
    "    image_normalized = image.copy().astype(np.float64)\n",
    "    image_normalized = (image_normalized - image_normalized.min()) / (image_normalized.max() - image_normalized.min())\n",
    "    #print(image_normalized)\n",
    "\n",
    "    # remove empty slices\n",
    "    filtered_image = image_normalized.copy()\n",
    "    filtered_label = label.copy()\n",
    "\n",
    "    slices_to_remove = []\n",
    "    \n",
    "    #print(filtered_label.shape)\n",
    "    '''\n",
    "    (512, 512, 258)\n",
    "    (512, 512, 255)\n",
    "    (512, 512, 216)\n",
    "    (512, 512, 245)\n",
    "    (512, 512, 237)\n",
    "    (512, 512, 221)\n",
    "    (512, 512, 390)\n",
    "    (512, 512, 268)\n",
    "    (512, 512, 216)\n",
    "    (512, 512, 221)\n",
    "    (512, 512, 240)\n",
    "    (512, 512, 201)\n",
    "    (512, 512, 217)\n",
    "    (512, 512, 237)\n",
    "    (512, 512, 211)\n",
    "    (512, 512, 236)\n",
    "    (512, 512, 245)\n",
    "    (512, 512, 293)\n",
    "    (512, 512, 264)\n",
    "    (512, 512, 176)\n",
    "    (512, 512, 261)\n",
    "    (512, 512, 176)\n",
    "    (512, 512, 179)\n",
    "    (512, 512, 232)\n",
    "    '''\n",
    "\n",
    "    for z in range(filtered_label.shape[2]):\n",
    "        if filtered_label[:,:,z].max() == 0:\n",
    "            slices_to_remove.append(z)\n",
    "    \n",
    "    #print(slices_to_remove)\n",
    "\n",
    "    slices_to_remove = sorted(slices_to_remove, reverse=True)\n",
    "    \n",
    "    '''\n",
    "    for z in slices_to_remove:\n",
    "        filtered_image = np.delete(filtered_image, z, 2)\n",
    "        filtered_label = np.delete(filtered_label, z, 2)\n",
    "    '''\n",
    "    \n",
    "    for z in slices_to_remove:\n",
    "        if z < filtered_image.shape[2]:\n",
    "            filtered_image = np.delete(filtered_image, z, 2)\n",
    "            filtered_label = np.delete(filtered_label, z, 2)\n",
    "\n",
    "    #print(\"img: \", filtered_image)\n",
    "    #print(\"lb: \", filtered_label)\n",
    "\n",
    "\n",
    "    # loop thru each slice\n",
    "    for z in range(filtered_label.shape[2]):\n",
    "\n",
    "        image_slice = filtered_image[:,:,z:z+1]\n",
    "        label_slice = filtered_label[:,:,z:z+1]\n",
    "\n",
    "        # relabel the segments\n",
    "        relabel, obj = mh.label(label_slice)\n",
    "\n",
    "        #print('relabeled')\n",
    "\n",
    "        # loop thru each segment, binarize and crop\n",
    "        for i in range(1, relabel.max()+1):\n",
    "\n",
    "            single_label = np.zeros((relabel.shape), relabel.dtype)\n",
    "            single_label[relabel == i] = 1\n",
    "\n",
    "            #image_cropped, single_label_cropped = C.Util.crop(image_slice, single_label, target_size=32)\n",
    "            #def crop(image, label, increase_xy=10, increase_z=0, target_size=None, just_z=False):\n",
    "            \n",
    "            increase_xy=10\n",
    "            increase_z=0\n",
    "            target_size=32\n",
    "            just_z=False\n",
    "            \n",
    "            bbox = mh.bbox(single_label) # ignore large portion of label since its all 0\n",
    "                          # to only include annotated plaque regions\n",
    "\n",
    "            increase_x = increase_xy\n",
    "            increase_y = increase_xy\n",
    "\n",
    "            if target_size:\n",
    "                widthY = bbox[1]-bbox[0]\n",
    "                widthX = bbox[3]-bbox[2]\n",
    "\n",
    "                increase_x = (target_size - widthX) // 2\n",
    "                increase_y = (target_size - widthY) // 2\n",
    "\n",
    "                bufferY = 0\n",
    "                if (bbox[0]-increase_y + bbox[1]+increase_y) != target_size:\n",
    "                    bufferY = 1\n",
    "\n",
    "                bufferX = 0\n",
    "                if (bbox[2]-increase_x + bbox[3]+increase_x) != target_size:\n",
    "                    bufferX = 1\n",
    "                \n",
    "            if just_z:\n",
    "                increase_xy = 0\n",
    "                bbox[0] = 0\n",
    "                bbox[1] = image_slice.shape[0]\n",
    "                bbox[2] = 0\n",
    "                bbox[3] = image_slice.shape[1]\n",
    "\n",
    "\n",
    "                # crop label and image according to bbox but make it a little larger\n",
    "                label_cropped = single_label[bbox[0]-increase_y:bbox[1]+increase_y+bufferY, \n",
    "                                  bbox[2]-increase_x:bbox[3]+increase_x+bufferX,\n",
    "                                  bbox[4]-increase_z:bbox[5]+increase_z]\n",
    "                image_cropped = image_slice[bbox[0]-increase_y:bbox[1]+increase_y+bufferY, \n",
    "                                  bbox[2]-increase_x:bbox[3]+increase_x+bufferX,\n",
    "                                  bbox[4]-increase_z:bbox[5]+increase_z]\n",
    "\n",
    "\n",
    "\n",
    "\n",
    "            image_patches.append(image_cropped)\n",
    "            label_patches.append(single_label_cropped)\n"
   ]
  }
 ],
 "metadata": {
  "kernelspec": {
   "display_name": "Python 3",
   "language": "python",
   "name": "python3"
  },
  "language_info": {
   "codemirror_mode": {
    "name": "ipython",
    "version": 3
   },
   "file_extension": ".py",
   "mimetype": "text/x-python",
   "name": "python",
   "nbconvert_exporter": "python",
   "pygments_lexer": "ipython3",
   "version": "3.10.6"
  },
  "vscode": {
   "interpreter": {
    "hash": "b0fa6594d8f4cbf19f97940f81e996739fb7646882a419484c72d19e05852a7e"
   }
  }
 },
 "nbformat": 4,
 "nbformat_minor": 5
}
