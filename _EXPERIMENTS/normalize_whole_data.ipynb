{
 "cells": [
  {
   "cell_type": "code",
   "execution_count": 1,
   "id": "179d966f",
   "metadata": {},
   "outputs": [
    {
     "name": "stdout",
     "output_type": "stream",
     "text": [
      "Populating the interactive namespace from numpy and matplotlib\n"
     ]
    }
   ],
   "source": [
    "%pylab inline\n",
    "import os\n",
    "import json"
   ]
  },
  {
   "cell_type": "code",
   "execution_count": 2,
   "id": "8e469dc7",
   "metadata": {},
   "outputs": [],
   "source": [
    "DATAPATH = '/raid/mpsych/CACTAS/DATA/ESUS/'"
   ]
  },
  {
   "cell_type": "code",
   "execution_count": 3,
   "id": "900e3691",
   "metadata": {},
   "outputs": [],
   "source": [
    "images_file = os.path.join(DATAPATH, 'image.npy')\n",
    "labels_file = os.path.join(DATAPATH, 'label.npy')\n",
    "images = np.load(images_file)\n",
    "labels = np.load(labels_file)"
   ]
  },
  {
   "cell_type": "code",
   "execution_count": 4,
   "id": "f0172f29",
   "metadata": {},
   "outputs": [],
   "source": [
    "with open(\"images_data.json\", \"r\") as fp:\n",
    "    image_data = json.load(fp)"
   ]
  },
  {
   "cell_type": "code",
   "execution_count": 5,
   "id": "caa29428",
   "metadata": {},
   "outputs": [],
   "source": [
    "with open(\"labels_data.json\", \"r\") as fp:\n",
    "    label_data = json.load(fp)"
   ]
  },
  {
   "cell_type": "code",
   "execution_count": 6,
   "id": "f105c83a",
   "metadata": {},
   "outputs": [
    {
     "data": {
      "text/plain": [
       "(14893, 14893)"
      ]
     },
     "execution_count": 6,
     "metadata": {},
     "output_type": "execute_result"
    }
   ],
   "source": [
    "len(images), len(labels)"
   ]
  },
  {
   "cell_type": "code",
   "execution_count": 7,
   "id": "19e79b4e",
   "metadata": {},
   "outputs": [
    {
     "data": {
      "text/plain": [
       "(64, 64)"
      ]
     },
     "execution_count": 7,
     "metadata": {},
     "output_type": "execute_result"
    }
   ],
   "source": [
    "len(image_data), len(label_data)"
   ]
  },
  {
   "cell_type": "code",
   "execution_count": 9,
   "id": "e553c7fd",
   "metadata": {},
   "outputs": [],
   "source": [
    "#for values in image_data.values():\n",
    "#   print(values)"
   ]
  },
  {
   "cell_type": "code",
   "execution_count": null,
   "id": "78825a64",
   "metadata": {},
   "outputs": [],
   "source": []
  },
  {
   "cell_type": "code",
   "execution_count": null,
   "id": "865506d7",
   "metadata": {},
   "outputs": [],
   "source": []
  },
  {
   "cell_type": "code",
   "execution_count": 8,
   "id": "bd23bd40",
   "metadata": {},
   "outputs": [],
   "source": [
    "images = images.astype(np.float64)\n",
    "labels = labels.astype(np.float64)"
   ]
  },
  {
   "cell_type": "code",
   "execution_count": 11,
   "id": "a7b95896",
   "metadata": {},
   "outputs": [],
   "source": [
    "# 1: apply normalization for the whole file"
   ]
  },
  {
   "cell_type": "code",
   "execution_count": 9,
   "id": "4661de73",
   "metadata": {},
   "outputs": [],
   "source": [
    "images = (images - images.min()) / (images.max() - images.min())    "
   ]
  },
  {
   "cell_type": "code",
   "execution_count": 10,
   "id": "5ebb48f6",
   "metadata": {},
   "outputs": [
    {
     "data": {
      "text/plain": [
       "(0.0, 1.0)"
      ]
     },
     "execution_count": 10,
     "metadata": {},
     "output_type": "execute_result"
    }
   ],
   "source": [
    "images.min(), images.max()"
   ]
  },
  {
   "cell_type": "code",
   "execution_count": 12,
   "id": "09be2a78",
   "metadata": {},
   "outputs": [],
   "source": []
  },
  {
   "cell_type": "code",
   "execution_count": null,
   "id": "cab43ecc",
   "metadata": {},
   "outputs": [],
   "source": []
  },
  {
   "cell_type": "code",
   "execution_count": null,
   "id": "9f2a36bb",
   "metadata": {},
   "outputs": [],
   "source": [
    "# split using patient id to the start of the slices in the array"
   ]
  },
  {
   "cell_type": "code",
   "execution_count": 11,
   "id": "bc5a27d1",
   "metadata": {},
   "outputs": [],
   "source": [
    "for i, j in enumerate(image_data):\n",
    "    if i == round(len(image_data) * 0.8):\n",
    "        X_train = images[0:image_data[j]]\n",
    "        X_val = images[image_data[j]:]"
   ]
  },
  {
   "cell_type": "code",
   "execution_count": 12,
   "id": "ec7e8e90",
   "metadata": {},
   "outputs": [],
   "source": [
    "for i, j in enumerate(label_data):\n",
    "    if i == round(len(label_data) * 0.8):\n",
    "        y_train = images[0:label_data[j]]\n",
    "        y_val = images[label_data[j]:]"
   ]
  },
  {
   "cell_type": "code",
   "execution_count": null,
   "id": "3021e582",
   "metadata": {},
   "outputs": [],
   "source": []
  }
 ],
 "metadata": {
  "kernelspec": {
   "display_name": "Python 3 (ipykernel)",
   "language": "python",
   "name": "python3"
  },
  "language_info": {
   "codemirror_mode": {
    "name": "ipython",
    "version": 3
   },
   "file_extension": ".py",
   "mimetype": "text/x-python",
   "name": "python",
   "nbconvert_exporter": "python",
   "pygments_lexer": "ipython3",
   "version": "3.9.7"
  }
 },
 "nbformat": 4,
 "nbformat_minor": 5
}
