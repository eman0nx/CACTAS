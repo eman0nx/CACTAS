{
 "cells": [
  {
   "cell_type": "code",
   "execution_count": 1,
   "id": "822a7cdb",
   "metadata": {},
   "outputs": [
    {
     "name": "stdout",
     "output_type": "stream",
     "text": [
      "Populating the interactive namespace from numpy and matplotlib\n"
     ]
    }
   ],
   "source": [
    "%pylab inline\n",
    "import os"
   ]
  },
  {
   "cell_type": "code",
   "execution_count": null,
   "id": "2d31a14d",
   "metadata": {},
   "outputs": [],
   "source": []
  },
  {
   "cell_type": "code",
   "execution_count": 2,
   "id": "ee45c8e8",
   "metadata": {},
   "outputs": [],
   "source": [
    "DATAPATH = '/raid/mpsych/CACTAS/DATA/ESUS/'\n",
    "images_file = os.path.join(DATAPATH, 'image.npy')\n",
    "labels_file = os.path.join(DATAPATH, 'label.npy')"
   ]
  },
  {
   "cell_type": "code",
   "execution_count": 3,
   "id": "8b4ccb36",
   "metadata": {},
   "outputs": [],
   "source": [
    "image = np.load(images_file)\n",
    "label = np.load(labels_file)"
   ]
  },
  {
   "cell_type": "code",
   "execution_count": 4,
   "id": "4fd696d8",
   "metadata": {},
   "outputs": [
    {
     "data": {
      "text/plain": [
       "14893"
      ]
     },
     "execution_count": 4,
     "metadata": {},
     "output_type": "execute_result"
    }
   ],
   "source": [
    "len(label)"
   ]
  },
  {
   "cell_type": "code",
   "execution_count": 5,
   "id": "d1b68bf5",
   "metadata": {},
   "outputs": [],
   "source": [
    "copied_image = image.copy()\n",
    "copied_label = label.copy()"
   ]
  },
  {
   "cell_type": "code",
   "execution_count": 6,
   "id": "646a59d2",
   "metadata": {},
   "outputs": [],
   "source": [
    "remove_list = []\n",
    "\n",
    "for i,d in enumerate(copied_label):\n",
    "    if d.max() == 0:\n",
    "        remove_list.append(i)"
   ]
  },
  {
   "cell_type": "code",
   "execution_count": 7,
   "id": "e24a584a",
   "metadata": {},
   "outputs": [
    {
     "data": {
      "text/plain": [
       "14127"
      ]
     },
     "execution_count": 7,
     "metadata": {},
     "output_type": "execute_result"
    }
   ],
   "source": [
    "len(remove_list)"
   ]
  },
  {
   "cell_type": "code",
   "execution_count": null,
   "id": "f3abf062",
   "metadata": {},
   "outputs": [],
   "source": []
  },
  {
   "cell_type": "code",
   "execution_count": 8,
   "id": "091e3b47",
   "metadata": {},
   "outputs": [],
   "source": [
    "images = []\n",
    "for index, element in enumerate(copied_image):\n",
    "    if index not in remove_list:\n",
    "        images.append(element)"
   ]
  },
  {
   "cell_type": "code",
   "execution_count": 9,
   "id": "0c2dea4c",
   "metadata": {},
   "outputs": [],
   "source": [
    "labels = []\n",
    "for index, element in enumerate(copied_label):\n",
    "    if index not in remove_list:\n",
    "        labels.append(element)"
   ]
  },
  {
   "cell_type": "code",
   "execution_count": 11,
   "id": "a2569572",
   "metadata": {},
   "outputs": [],
   "source": [
    "images_num = np.array(images)"
   ]
  },
  {
   "cell_type": "code",
   "execution_count": 13,
   "id": "1a62becc",
   "metadata": {},
   "outputs": [],
   "source": [
    "labels_num = np.array(labels)"
   ]
  },
  {
   "cell_type": "code",
   "execution_count": 12,
   "id": "4da6780f",
   "metadata": {},
   "outputs": [
    {
     "data": {
      "text/plain": [
       "(766, 512, 512)"
      ]
     },
     "execution_count": 12,
     "metadata": {},
     "output_type": "execute_result"
    }
   ],
   "source": [
    "images_num.shape"
   ]
  },
  {
   "cell_type": "code",
   "execution_count": 14,
   "id": "6858aae0",
   "metadata": {},
   "outputs": [
    {
     "data": {
      "text/plain": [
       "(766, 512, 512)"
      ]
     },
     "execution_count": 14,
     "metadata": {},
     "output_type": "execute_result"
    }
   ],
   "source": [
    "labels_num.shape"
   ]
  },
  {
   "cell_type": "code",
   "execution_count": null,
   "id": "6e7fcf38",
   "metadata": {},
   "outputs": [],
   "source": []
  },
  {
   "cell_type": "code",
   "execution_count": 15,
   "id": "1bb97229",
   "metadata": {},
   "outputs": [],
   "source": [
    "#np.save(DATAPATH + 'images.npy', images_num)"
   ]
  },
  {
   "cell_type": "code",
   "execution_count": 16,
   "id": "de7658fd",
   "metadata": {},
   "outputs": [],
   "source": [
    "#np.save(DATAPATH + 'labels.npy', labels_num)"
   ]
  },
  {
   "cell_type": "code",
   "execution_count": null,
   "id": "72e444fa",
   "metadata": {},
   "outputs": [],
   "source": []
  }
 ],
 "metadata": {
  "kernelspec": {
   "display_name": "Python 3 (ipykernel)",
   "language": "python",
   "name": "python3"
  },
  "language_info": {
   "codemirror_mode": {
    "name": "ipython",
    "version": 3
   },
   "file_extension": ".py",
   "mimetype": "text/x-python",
   "name": "python",
   "nbconvert_exporter": "python",
   "pygments_lexer": "ipython3",
   "version": "3.9.7"
  }
 },
 "nbformat": 4,
 "nbformat_minor": 5
}
