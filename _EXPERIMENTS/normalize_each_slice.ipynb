{
 "cells": [
  {
   "cell_type": "code",
   "execution_count": 1,
   "id": "436d9978",
   "metadata": {},
   "outputs": [
    {
     "name": "stdout",
     "output_type": "stream",
     "text": [
      "Populating the interactive namespace from numpy and matplotlib\n"
     ]
    }
   ],
   "source": [
    "%pylab inline\n",
    "import os\n",
    "import json"
   ]
  },
  {
   "cell_type": "code",
   "execution_count": 2,
   "id": "f1664523",
   "metadata": {},
   "outputs": [],
   "source": [
    "DATAPATH = '/raid/mpsych/CACTAS/DATA/ESUS/'"
   ]
  },
  {
   "cell_type": "code",
   "execution_count": 3,
   "id": "03ff95f8",
   "metadata": {},
   "outputs": [],
   "source": [
    "images_file = os.path.join(DATAPATH, 'image.npy')\n",
    "labels_file = os.path.join(DATAPATH, 'label.npy')\n",
    "images = np.load(images_file)\n",
    "labels = np.load(labels_file)"
   ]
  },
  {
   "cell_type": "code",
   "execution_count": 4,
   "id": "0e5ff227",
   "metadata": {},
   "outputs": [],
   "source": [
    "with open(\"images_data.json\", \"r\") as fp:\n",
    "    image_data = json.load(fp)"
   ]
  },
  {
   "cell_type": "code",
   "execution_count": 5,
   "id": "eed2a730",
   "metadata": {},
   "outputs": [],
   "source": [
    "with open(\"labels_data.json\", \"r\") as fp:\n",
    "    label_data = json.load(fp)"
   ]
  },
  {
   "cell_type": "code",
   "execution_count": null,
   "id": "efff4650",
   "metadata": {},
   "outputs": [],
   "source": []
  },
  {
   "cell_type": "code",
   "execution_count": null,
   "id": "0a79cf8a",
   "metadata": {},
   "outputs": [],
   "source": [
    "# 2: apply normalization for each slice"
   ]
  },
  {
   "cell_type": "code",
   "execution_count": 6,
   "id": "ba6c4ab7",
   "metadata": {},
   "outputs": [],
   "source": [
    "images = images.astype(np.float64)\n",
    "labels = labels.astype(np.float64)"
   ]
  },
  {
   "cell_type": "code",
   "execution_count": 7,
   "id": "be27cf58",
   "metadata": {},
   "outputs": [],
   "source": [
    "for i in range(images.shape[0]):\n",
    "    images[i] = (images[i] - images[i].min()) / (images[i].max() - images[i].min()) "
   ]
  },
  {
   "cell_type": "code",
   "execution_count": 8,
   "id": "fa5fe15a",
   "metadata": {},
   "outputs": [
    {
     "data": {
      "text/plain": [
       "(0.0, 1.0)"
      ]
     },
     "execution_count": 8,
     "metadata": {},
     "output_type": "execute_result"
    }
   ],
   "source": [
    "images.min(), images.max()"
   ]
  },
  {
   "cell_type": "code",
   "execution_count": 9,
   "id": "7810a501",
   "metadata": {},
   "outputs": [],
   "source": [
    "for i, j in enumerate(image_data):\n",
    "    if i == round(len(image_data) * 0.8):\n",
    "        X_train = images[0:image_data[j]]\n",
    "        X_val = images[image_data[j]:]\n",
    "        #print(i, j, image_data[j])\n",
    "        #print(X_train)\n",
    "        #print(X_val)"
   ]
  },
  {
   "cell_type": "code",
   "execution_count": 10,
   "id": "f1ab6757",
   "metadata": {},
   "outputs": [],
   "source": [
    "for i, j in enumerate(label_data):\n",
    "    if i == round(len(label_data) * 0.8):\n",
    "        y_train = images[0:label_data[j]]\n",
    "        y_val = images[label_data[j]:]\n",
    "        #print(i, j, label_data[j])\n",
    "        #print(X_train)\n",
    "        #print(X_val)"
   ]
  },
  {
   "cell_type": "code",
   "execution_count": null,
   "id": "bd992c25",
   "metadata": {},
   "outputs": [],
   "source": []
  }
 ],
 "metadata": {
  "kernelspec": {
   "display_name": "Python 3 (ipykernel)",
   "language": "python",
   "name": "python3"
  },
  "language_info": {
   "codemirror_mode": {
    "name": "ipython",
    "version": 3
   },
   "file_extension": ".py",
   "mimetype": "text/x-python",
   "name": "python",
   "nbconvert_exporter": "python",
   "pygments_lexer": "ipython3",
   "version": "3.9.7"
  }
 },
 "nbformat": 4,
 "nbformat_minor": 5
}
