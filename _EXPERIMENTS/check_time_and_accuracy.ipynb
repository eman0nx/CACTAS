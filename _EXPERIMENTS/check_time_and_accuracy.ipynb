{
 "cells": [
  {
   "cell_type": "code",
   "execution_count": 1,
   "id": "9c2f684b",
   "metadata": {},
   "outputs": [
    {
     "name": "stdout",
     "output_type": "stream",
     "text": [
      "Populating the interactive namespace from numpy and matplotlib\n"
     ]
    }
   ],
   "source": [
    "%pylab inline"
   ]
  },
  {
   "cell_type": "code",
   "execution_count": 2,
   "id": "253b221b",
   "metadata": {},
   "outputs": [],
   "source": [
    "GTFILE = '/raid/mpsych/CACTAS/DATA/ESUS/7.seg.nrrd'"
   ]
  },
  {
   "cell_type": "code",
   "execution_count": 3,
   "id": "6f40805e",
   "metadata": {},
   "outputs": [],
   "source": [
    "CUSDATA = '/raid/mpsych/CACTAS/DATA/DACTAS2/'"
   ]
  },
  {
   "cell_type": "code",
   "execution_count": 4,
   "id": "dde6cb19",
   "metadata": {},
   "outputs": [
    {
     "name": "stderr",
     "output_type": "stream",
     "text": [
      "/home/jiehyun.kim001/miniconda3/envs/O/lib/python3.9/site-packages/scipy/__init__.py:146: UserWarning: A NumPy version >=1.16.5 and <1.23.0 is required for this version of SciPy (detected version 1.23.4\n",
      "  warnings.warn(f\"A NumPy version >={np_minversion} and <{np_maxversion}\"\n"
     ]
    }
   ],
   "source": [
    "import nrrd\n",
    "import cactas as C\n",
    "import nibabel\n",
    "import mahotas as mh\n",
    "from sklearn import metrics"
   ]
  },
  {
   "cell_type": "code",
   "execution_count": null,
   "id": "72673c5d",
   "metadata": {},
   "outputs": [],
   "source": []
  },
  {
   "cell_type": "code",
   "execution_count": 5,
   "id": "71a541ee",
   "metadata": {},
   "outputs": [],
   "source": [
    "cactas = [137.907, 96.396, 145.458]"
   ]
  },
  {
   "cell_type": "code",
   "execution_count": 6,
   "id": "d8b45d9a",
   "metadata": {},
   "outputs": [],
   "source": [
    "slicer = ['6:23:43', '5:43:40', '6:11:44']"
   ]
  },
  {
   "cell_type": "code",
   "execution_count": 7,
   "id": "949fc57e",
   "metadata": {},
   "outputs": [
    {
     "name": "stdout",
     "output_type": "stream",
     "text": [
      "['6', '23', '43']\n",
      "['5', '43', '40']\n",
      "['6', '11', '44']\n"
     ]
    }
   ],
   "source": [
    "slicer2 = []\n",
    "for s in slicer:\n",
    "  print(s.split(':'))\n",
    "  m = s.split(':')[0]\n",
    "  sec = s.split(':')[1]\n",
    "  ms = s.split(':')[2]\n",
    "\n",
    "  v = str(int(m)*60 + int(sec)) + '.' + (ms)\n",
    "  slicer2.append(v)"
   ]
  },
  {
   "cell_type": "code",
   "execution_count": 8,
   "id": "f74d0466",
   "metadata": {},
   "outputs": [],
   "source": [
    "slicer2 = [float(v) for v in slicer2]"
   ]
  },
  {
   "cell_type": "code",
   "execution_count": 9,
   "id": "d177b21c",
   "metadata": {},
   "outputs": [
    {
     "data": {
      "text/plain": [
       "[383.43, 343.4, 371.44]"
      ]
     },
     "execution_count": 9,
     "metadata": {},
     "output_type": "execute_result"
    }
   ],
   "source": [
    "slicer2"
   ]
  },
  {
   "cell_type": "code",
   "execution_count": 10,
   "id": "cfaaca25",
   "metadata": {},
   "outputs": [
    {
     "data": {
      "text/plain": [
       "(126.58699999999999, 21.569681824264354)"
      ]
     },
     "execution_count": 10,
     "metadata": {},
     "output_type": "execute_result"
    }
   ],
   "source": [
    "np.mean(cactas), np.std(cactas)"
   ]
  },
  {
   "cell_type": "code",
   "execution_count": 11,
   "id": "be026a79",
   "metadata": {},
   "outputs": [
    {
     "data": {
      "text/plain": [
       "(366.09, 16.774327606991196)"
      ]
     },
     "execution_count": 11,
     "metadata": {},
     "output_type": "execute_result"
    }
   ],
   "source": [
    "np.mean(slicer2), np.std(slicer2)"
   ]
  },
  {
   "cell_type": "code",
   "execution_count": 12,
   "id": "261ec092",
   "metadata": {},
   "outputs": [
    {
     "data": {
      "text/plain": [
       "2.892003128283315"
      ]
     },
     "execution_count": 12,
     "metadata": {},
     "output_type": "execute_result"
    }
   ],
   "source": [
    "366.09 / 126.58699999999999"
   ]
  },
  {
   "cell_type": "code",
   "execution_count": 13,
   "id": "111e3e90",
   "metadata": {},
   "outputs": [],
   "source": [
    "import scipy.stats"
   ]
  },
  {
   "cell_type": "code",
   "execution_count": 14,
   "id": "697ef2cb",
   "metadata": {},
   "outputs": [
    {
     "data": {
      "text/plain": [
       "Ttest_indResult(statistic=-12.395768541746166, pvalue=0.0002434701382914217)"
      ]
     },
     "execution_count": 14,
     "metadata": {},
     "output_type": "execute_result"
    }
   ],
   "source": [
    "scipy.stats.ttest_ind(cactas, slicer2)"
   ]
  },
  {
   "cell_type": "code",
   "execution_count": 15,
   "id": "a3013232",
   "metadata": {},
   "outputs": [
    {
     "data": {
      "text/plain": [
       "Ttest_indResult(statistic=-12.395768541746166, pvalue=0.0003410420862363059)"
      ]
     },
     "execution_count": 15,
     "metadata": {},
     "output_type": "execute_result"
    }
   ],
   "source": [
    "scipy.stats.ttest_ind(cactas, slicer2, equal_var=False)"
   ]
  },
  {
   "cell_type": "code",
   "execution_count": 16,
   "id": "4d428dcb",
   "metadata": {},
   "outputs": [
    {
     "data": {
      "text/plain": [
       "{'whiskers': [<matplotlib.lines.Line2D at 0x7fec1dd2c040>,\n",
       "  <matplotlib.lines.Line2D at 0x7fec1dd2c310>,\n",
       "  <matplotlib.lines.Line2D at 0x7fec1dd37460>,\n",
       "  <matplotlib.lines.Line2D at 0x7fec1dd37730>],\n",
       " 'caps': [<matplotlib.lines.Line2D at 0x7fec1dd2c6a0>,\n",
       "  <matplotlib.lines.Line2D at 0x7fec1dd2c8b0>,\n",
       "  <matplotlib.lines.Line2D at 0x7fec1dd37a00>,\n",
       "  <matplotlib.lines.Line2D at 0x7fec1dd37cd0>],\n",
       " 'boxes': [<matplotlib.lines.Line2D at 0x7fec1fd8ed30>,\n",
       "  <matplotlib.lines.Line2D at 0x7fec1dd37190>],\n",
       " 'medians': [<matplotlib.lines.Line2D at 0x7fec1dd2cb80>,\n",
       "  <matplotlib.lines.Line2D at 0x7fec1dd37fa0>],\n",
       " 'fliers': [<matplotlib.lines.Line2D at 0x7fec1dd2ce50>,\n",
       "  <matplotlib.lines.Line2D at 0x7fec1dd462b0>],\n",
       " 'means': []}"
      ]
     },
     "execution_count": 16,
     "metadata": {},
     "output_type": "execute_result"
    },
    {
     "data": {
      "image/png": "[encoded data removed]",
      "text/plain": [
       "<Figure size 432x288 with 1 Axes>"
      ]
     },
     "metadata": {
      "needs_background": "light"
     },
     "output_type": "display_data"
    }
   ],
   "source": [
    "plt.boxplot([cactas, slicer2])"
   ]
  },
  {
   "cell_type": "code",
   "execution_count": null,
   "id": "9aea82fe",
   "metadata": {},
   "outputs": [],
   "source": []
  },
  {
   "cell_type": "code",
   "execution_count": null,
   "id": "8791798d",
   "metadata": {},
   "outputs": [],
   "source": []
  },
  {
   "cell_type": "code",
   "execution_count": 17,
   "id": "2eb6a5b4",
   "metadata": {},
   "outputs": [],
   "source": [
    "GT = nrrd.read(GTFILE)[0]"
   ]
  },
  {
   "cell_type": "code",
   "execution_count": 18,
   "id": "13b85319",
   "metadata": {},
   "outputs": [],
   "source": [
    "CACTAS_INDICES = [1,2,3]\n",
    "SLICER_INDICES = [4,5,6]"
   ]
  },
  {
   "cell_type": "code",
   "execution_count": 19,
   "id": "aa4a506a",
   "metadata": {},
   "outputs": [],
   "source": [
    "def jaccard(s1, s2):\n",
    "    a = np.ravel(s1)\n",
    "    b = np.ravel(s2)\n",
    "    similarity = metrics.jaccard_score(a, \n",
    "                                       b,\n",
    "                                       average=\"binary\")\n",
    "\n",
    "    return similarity\n",
    "\n",
    "def binarize(label, threshold=0):\n",
    "\n",
    "    label_bin = label.copy().astype(np.bool_)\n",
    "    label_bin[:] = 0\n",
    "    label_bin[label > threshold] = 1\n",
    "\n",
    "    return label_bin"
   ]
  },
  {
   "cell_type": "code",
   "execution_count": null,
   "id": "5b584339",
   "metadata": {},
   "outputs": [],
   "source": []
  },
  {
   "cell_type": "code",
   "execution_count": 20,
   "id": "f5950574",
   "metadata": {},
   "outputs": [],
   "source": [
    "C_JACCARD = []\n",
    "for c in CACTAS_INDICES:\n",
    "    segpath = CUSDATA + str(c) + '/07_seg.nii.gz'\n",
    "    data = nibabel.load(segpath).get_fdata()\n",
    "    data = binarize(data)\n",
    "    for i in range(1):\n",
    "        data = mh.dilate(data)\n",
    "    jaccard_score = jaccard(binarize(GT), data)\n",
    "    \n",
    "    C_JACCARD.append(jaccard_score)"
   ]
  },
  {
   "cell_type": "code",
   "execution_count": 19,
   "id": "71798c01",
   "metadata": {},
   "outputs": [
    {
     "data": {
      "text/plain": [
       "[0.22276422764227644, 0.31270903010033446, 0.1974921630094044]"
      ]
     },
     "execution_count": 19,
     "metadata": {},
     "output_type": "execute_result"
    }
   ],
   "source": [
    "#C_JACCARD"
   ]
  },
  {
   "cell_type": "code",
   "execution_count": 21,
   "id": "0f371157",
   "metadata": {},
   "outputs": [
    {
     "data": {
      "text/plain": [
       "[0.4695201037613489, 0.5710526315789474, 0.401219512195122]"
      ]
     },
     "execution_count": 21,
     "metadata": {},
     "output_type": "execute_result"
    }
   ],
   "source": [
    "C_JACCARD # with dilation"
   ]
  },
  {
   "cell_type": "code",
   "execution_count": 22,
   "id": "0f4520eb",
   "metadata": {},
   "outputs": [
    {
     "data": {
      "text/plain": [
       "(0.48059741584513943, 0.0697751256641001)"
      ]
     },
     "execution_count": 22,
     "metadata": {},
     "output_type": "execute_result"
    }
   ],
   "source": [
    "np.mean(C_JACCARD), np.std(C_JACCARD)"
   ]
  },
  {
   "cell_type": "code",
   "execution_count": 11,
   "id": "ff0d2b72",
   "metadata": {},
   "outputs": [
    {
     "data": {
      "text/plain": [
       "0.48059741584513943"
      ]
     },
     "execution_count": 11,
     "metadata": {},
     "output_type": "execute_result"
    }
   ],
   "source": [
    "(0.4695201037613489 + 0.5710526315789474 + 0.401219512195122) / 3"
   ]
  },
  {
   "cell_type": "code",
   "execution_count": 23,
   "id": "4cc0444c",
   "metadata": {},
   "outputs": [],
   "source": [
    "S_JACCARD = []\n",
    "for c in SLICER_INDICES:\n",
    "    segpath = CUSDATA + str(c) + '/Segmentation.seg.nrrd'\n",
    "    data = nrrd.read(segpath)[0]\n",
    "    #for i in range(1):\n",
    "    #    data = mh.dilate(data)\n",
    "    jaccard_score = jaccard(binarize(GT), binarize(data))\n",
    "    \n",
    "    S_JACCARD.append(jaccard_score)"
   ]
  },
  {
   "cell_type": "code",
   "execution_count": 24,
   "id": "3b22dafe",
   "metadata": {},
   "outputs": [
    {
     "data": {
      "text/plain": [
       "[0.5471698113207547, 0.5295566502463054, 0.41262135922330095]"
      ]
     },
     "execution_count": 24,
     "metadata": {},
     "output_type": "execute_result"
    }
   ],
   "source": [
    "S_JACCARD"
   ]
  },
  {
   "cell_type": "code",
   "execution_count": 9,
   "id": "0db63a7d",
   "metadata": {},
   "outputs": [
    {
     "data": {
      "text/plain": [
       "0.496449273596787"
      ]
     },
     "execution_count": 9,
     "metadata": {},
     "output_type": "execute_result"
    }
   ],
   "source": [
    "(0.5471698113207547 + 0.5295566502463054 + 0.41262135922330095)/3"
   ]
  },
  {
   "cell_type": "code",
   "execution_count": 25,
   "id": "d3292a2b",
   "metadata": {},
   "outputs": [
    {
     "data": {
      "text/plain": [
       "(0.496449273596787, 0.05970982767749938)"
      ]
     },
     "execution_count": 25,
     "metadata": {},
     "output_type": "execute_result"
    }
   ],
   "source": [
    "np.mean(S_JACCARD), np.std(S_JACCARD)"
   ]
  },
  {
   "cell_type": "code",
   "execution_count": 25,
   "id": "a35afbd0",
   "metadata": {},
   "outputs": [
    {
     "data": {
      "text/plain": [
       "[0.43808777429467083, 0.35570890840652447, 0.3442211055276382]"
      ]
     },
     "execution_count": 25,
     "metadata": {},
     "output_type": "execute_result"
    }
   ],
   "source": [
    "#S_JACCARD # with dilation"
   ]
  },
  {
   "cell_type": "code",
   "execution_count": 28,
   "id": "fb271ef4",
   "metadata": {},
   "outputs": [
    {
     "data": {
      "text/plain": [
       "{'whiskers': [<matplotlib.lines.Line2D at 0x7f01f4b10b80>,\n",
       "  <matplotlib.lines.Line2D at 0x7f01f4b10e50>,\n",
       "  <matplotlib.lines.Line2D at 0x7f01f4b1fe50>,\n",
       "  <matplotlib.lines.Line2D at 0x7f01f4b2d160>],\n",
       " 'caps': [<matplotlib.lines.Line2D at 0x7f01f4b1f040>,\n",
       "  <matplotlib.lines.Line2D at 0x7f01f4b1f310>,\n",
       "  <matplotlib.lines.Line2D at 0x7f01f4b2d430>,\n",
       "  <matplotlib.lines.Line2D at 0x7f01f4b2d700>],\n",
       " 'boxes': [<matplotlib.lines.Line2D at 0x7f01f4b108b0>,\n",
       "  <matplotlib.lines.Line2D at 0x7f01f4b1fb80>],\n",
       " 'medians': [<matplotlib.lines.Line2D at 0x7f01f4b1f5e0>,\n",
       "  <matplotlib.lines.Line2D at 0x7f01f4b2d9d0>],\n",
       " 'fliers': [<matplotlib.lines.Line2D at 0x7f01f4b1f8b0>,\n",
       "  <matplotlib.lines.Line2D at 0x7f01f4b2dca0>],\n",
       " 'means': []}"
      ]
     },
     "execution_count": 28,
     "metadata": {},
     "output_type": "execute_result"
    },
    {
     "data": {
      "image/png": "[encoded data removed]",
      "text/plain": [
       "<Figure size 432x288 with 1 Axes>"
      ]
     },
     "metadata": {
      "needs_background": "light"
     },
     "output_type": "display_data"
    }
   ],
   "source": [
    "plt.boxplot([C_JACCARD, S_JACCARD])"
   ]
  },
  {
   "cell_type": "code",
   "execution_count": null,
   "id": "802a95db",
   "metadata": {},
   "outputs": [],
   "source": []
  },
  {
   "cell_type": "code",
   "execution_count": 24,
   "id": "c2f0a9d3",
   "metadata": {},
   "outputs": [
    {
     "data": {
      "text/plain": [
       "Ttest_indResult(statistic=-0.24410838621590547, pvalue=0.8191565531244088)"
      ]
     },
     "execution_count": 24,
     "metadata": {},
     "output_type": "execute_result"
    }
   ],
   "source": [
    "scipy.stats.ttest_ind(C_JACCARD, S_JACCARD)"
   ]
  },
  {
   "cell_type": "code",
   "execution_count": 26,
   "id": "8496ff15",
   "metadata": {},
   "outputs": [],
   "source": [
    "NASA_C = [6, 72, 7]"
   ]
  },
  {
   "cell_type": "code",
   "execution_count": 27,
   "id": "0ee67f0c",
   "metadata": {},
   "outputs": [],
   "source": [
    "NASA_S = [52, 16,32]"
   ]
  },
  {
   "cell_type": "code",
   "execution_count": 28,
   "id": "5380086b",
   "metadata": {},
   "outputs": [
    {
     "data": {
      "text/plain": [
       "(28.333333333333332, 30.879694874715902)"
      ]
     },
     "execution_count": 28,
     "metadata": {},
     "output_type": "execute_result"
    }
   ],
   "source": [
    "np.mean(NASA_C), np.std(NASA_C)"
   ]
  },
  {
   "cell_type": "code",
   "execution_count": 29,
   "id": "9e3d0ace",
   "metadata": {},
   "outputs": [
    {
     "data": {
      "text/plain": [
       "(33.333333333333336, 14.72714802291635)"
      ]
     },
     "execution_count": 29,
     "metadata": {},
     "output_type": "execute_result"
    }
   ],
   "source": [
    "np.mean(NASA_S), np.std(NASA_S)"
   ]
  },
  {
   "cell_type": "code",
   "execution_count": 30,
   "id": "cd621bbe",
   "metadata": {},
   "outputs": [
    {
     "data": {
      "text/plain": [
       "Ttest_indResult(statistic=-0.206685304907864, pvalue=0.8463503122386641)"
      ]
     },
     "execution_count": 30,
     "metadata": {},
     "output_type": "execute_result"
    }
   ],
   "source": [
    "scipy.stats.ttest_ind(NASA_C, NASA_S)"
   ]
  },
  {
   "cell_type": "code",
   "execution_count": null,
   "id": "4c23c0be",
   "metadata": {},
   "outputs": [],
   "source": []
  }
 ],
 "metadata": {
  "kernelspec": {
   "display_name": "Python 3 (ipykernel)",
   "language": "python",
   "name": "python3"
  },
  "language_info": {
   "codemirror_mode": {
    "name": "ipython",
    "version": 3
   },
   "file_extension": ".py",
   "mimetype": "text/x-python",
   "name": "python",
   "nbconvert_exporter": "python",
   "pygments_lexer": "ipython3",
   "version": "3.9.7"
  }
 },
 "nbformat": 4,
 "nbformat_minor": 5
}
