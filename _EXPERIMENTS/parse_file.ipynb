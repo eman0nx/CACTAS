{
 "cells": [
  {
   "cell_type": "code",
   "execution_count": 1,
   "id": "70b14250",
   "metadata": {},
   "outputs": [],
   "source": [
    "import os"
   ]
  },
  {
   "cell_type": "code",
   "execution_count": 2,
   "id": "7a998414",
   "metadata": {},
   "outputs": [
    {
     "name": "stdout",
     "output_type": "stream",
     "text": [
      "/raid/mpsych/CACTAS/DATA/Nathan_Test ['ESUS 91', 'ESUS 52', 'ESUS 39', 'ESUS 94', 'ESUS 86', 'ESUS 41', 'ESUS 57', 'ESUS 51', 'ESUS 53', 'ESUS 83', 'ESUS 47', 'ESUS 15', 'ESUS 61', 'ESUS 9', 'ESUS 35', 'ESUS 46', 'ESUS 14', 'ESUS 33', 'ESUS 27', 'ESUS 50', 'ESUS 32', 'ESUS 73', 'ESUS 48', 'ESUS 93', 'ESUS 75', 'ESUS 84', 'ESUS 66', 'ESUS 2', 'ESUS 5', 'ESUS 10', 'ESUS 64'] []\n",
      "/raid/mpsych/CACTAS/DATA/Nathan_Test/ESUS 91 [] ['ESUS 91_7 Unnamed Series.nrrd', 'ESUS 91_Segmentation.seg.nrrd']\n",
      "/raid/mpsych/CACTAS/DATA/Nathan_Test/ESUS 52 [] ['ESUS 52_4 Unnamed Series.nrrd', 'ESUS 52_Segmentation.seg.nrrd']\n",
      "/raid/mpsych/CACTAS/DATA/Nathan_Test/ESUS 39 [] ['ESUS 39_Segmentation.seg.nrrd', 'ESUS 39_6 Unnamed Series.nrrd']\n",
      "/raid/mpsych/CACTAS/DATA/Nathan_Test/ESUS 94 [] ['ESUS 94_9 Unnamed Series.nrrd', 'ESUS 94_Segmentation.seg.nrrd']\n",
      "/raid/mpsych/CACTAS/DATA/Nathan_Test/ESUS 86 [] ['ESUS 86_7 Unnamed Series.nrrd', 'ESUS 86_Segmentation.seg.nrrd']\n",
      "/raid/mpsych/CACTAS/DATA/Nathan_Test/ESUS 41 [] ['ESUS 41_7 Unnamed Series.nrrd', 'ESUS 41_Segmentation.seg.nrrd']\n",
      "/raid/mpsych/CACTAS/DATA/Nathan_Test/ESUS 57 [] ['ESUS 57_9 Unnamed Series.nrrd', 'ESUS 57_Segmentation.seg.nrrd']\n",
      "/raid/mpsych/CACTAS/DATA/Nathan_Test/ESUS 51 [] ['ESUS 51_Segmentation_draft_2.seg.nrrd', 'ESUS 51_Segmentation.seg.nrrd', 'ESUS 51_6 Unnamed Series.nrrd']\n",
      "/raid/mpsych/CACTAS/DATA/Nathan_Test/ESUS 53 [] ['ESUS 53_8 Unnamed Series.nrrd', 'ESUS 53_Segmentation.seg.nrrd']\n",
      "/raid/mpsych/CACTAS/DATA/Nathan_Test/ESUS 83 [] ['ESUS 83_Segmentation.seg.nrrd', 'ESUS 83_5 Unnamed Series.nrrd']\n",
      "/raid/mpsych/CACTAS/DATA/Nathan_Test/ESUS 47 [] ['ESUS 47_Segmentation.seg.nrrd', 'ESUS 47_11 Unnamed Series.nrrd']\n",
      "/raid/mpsych/CACTAS/DATA/Nathan_Test/ESUS 15 [] ['ESUS 15_10 Unnamed Series.nrrd', 'ESUS 15_Segmentation.seg.nrrd']\n",
      "/raid/mpsych/CACTAS/DATA/Nathan_Test/ESUS 61 [] ['ESUS 61_Segmentation.seg.nrrd', 'ESUS 61_4 Unnamed Series.nrrd', 'ESUS 61_Segmentation_draft_2.seg.nrrd']\n",
      "/raid/mpsych/CACTAS/DATA/Nathan_Test/ESUS 9 [] ['ESUS 9_Segmentation.seg.nrrd', 'ESUS 9_13 Unnamed Series.nrrd']\n",
      "/raid/mpsych/CACTAS/DATA/Nathan_Test/ESUS 35 [] ['ESUS 35_11 Unnamed Series.nrrd', 'ESUS 35_Segmentation.seg.nrrd']\n",
      "/raid/mpsych/CACTAS/DATA/Nathan_Test/ESUS 46 [] ['ESUS 46_8 Unnamed Series.nrrd', 'ESUS 46_Segmentation.seg.nrrd']\n",
      "/raid/mpsych/CACTAS/DATA/Nathan_Test/ESUS 14 [] ['ESUS 14_Segmentation.seg.nrrd', 'ESUS 14_5 Unnamed Series.nrrd']\n",
      "/raid/mpsych/CACTAS/DATA/Nathan_Test/ESUS 33 [] ['ESUS 33_11 Unnamed Series.nrrd', 'ESUS 33_Segmentation.seg.nrrd']\n",
      "/raid/mpsych/CACTAS/DATA/Nathan_Test/ESUS 27 [] ['ESUS 27_Segmentation.seg.nrrd', 'ESUS 27_11 Unnamed Series.nrrd']\n",
      "/raid/mpsych/CACTAS/DATA/Nathan_Test/ESUS 50 [] ['ESUS 50_9 Unnamed Series.nrrd', 'ESUS 50_Segmentation.seg.nrrd']\n",
      "/raid/mpsych/CACTAS/DATA/Nathan_Test/ESUS 32 [] ['ESUS 32_Segmentation.seg.nrrd', 'ESUS 32_6 Unnamed Series.nrrd']\n",
      "/raid/mpsych/CACTAS/DATA/Nathan_Test/ESUS 73 [] ['ESUS 73_Segmentation.seg.nrrd', 'ESUS 73_9 Unnamed Series.nrrd']\n",
      "/raid/mpsych/CACTAS/DATA/Nathan_Test/ESUS 48 [] ['ESUS 48_6 Unnamed Series.nrrd', 'ESUS 48_Segmentation.seg.nrrd']\n",
      "/raid/mpsych/CACTAS/DATA/Nathan_Test/ESUS 93 [] ['ESUS 93_Segmentation.seg.nrrd', 'ESUS 93_5 Unnamed Series.nrrd']\n",
      "/raid/mpsych/CACTAS/DATA/Nathan_Test/ESUS 75 [] ['ESUS 75_4 Unnamed Series.nrrd', 'ESUS 75_Segmentation.seg.nrrd']\n",
      "/raid/mpsych/CACTAS/DATA/Nathan_Test/ESUS 84 [] ['ESUS 84_5 Unnamed Series.nrrd', 'ESUS 84_Segmentation.seg.nrrd']\n",
      "/raid/mpsych/CACTAS/DATA/Nathan_Test/ESUS 66 [] ['ESUS 66_5 Unnamed Series.nrrd', 'ESUS 66_Segmentation.seg.nrrd']\n",
      "/raid/mpsych/CACTAS/DATA/Nathan_Test/ESUS 2 [] ['ESUS 2_6 Unnamed Series.nrrd', 'ESUS 2_Segmentation.seg.nrrd']\n",
      "/raid/mpsych/CACTAS/DATA/Nathan_Test/ESUS 5 [] ['ESUS 5_Segmentation.seg.nrrd', 'ESUS 5_13 Unnamed Series.nrrd']\n",
      "/raid/mpsych/CACTAS/DATA/Nathan_Test/ESUS 10 [] ['ESUS 10_4 Unnamed Series.nrrd', 'ESUS 10_Segmentation.seg.nrrd']\n",
      "/raid/mpsych/CACTAS/DATA/Nathan_Test/ESUS 64 [] ['ESUS 64_4 Unnamed Series.nrrd', 'ESUS 64_Segmentation.seg.nrrd']\n"
     ]
    }
   ],
   "source": [
    "for root, dirs, files in os.walk('/raid/mpsych/CACTAS/DATA/Nathan_Test'):\n",
    "    print(root, dirs, files)"
   ]
  },
  {
   "cell_type": "code",
   "execution_count": 4,
   "id": "2d57f2a6",
   "metadata": {},
   "outputs": [
    {
     "name": "stdout",
     "output_type": "stream",
     "text": [
      "/raid/mpsych/CACTAS/DATA/Nathan_Test\n",
      "/raid/mpsych/CACTAS/DATA/Nathan_Test/ESUS 91\n",
      "/raid/mpsych/CACTAS/DATA/Nathan_Test/ESUS 52\n",
      "/raid/mpsych/CACTAS/DATA/Nathan_Test/ESUS 39\n",
      "/raid/mpsych/CACTAS/DATA/Nathan_Test/ESUS 94\n",
      "/raid/mpsych/CACTAS/DATA/Nathan_Test/ESUS 86\n",
      "/raid/mpsych/CACTAS/DATA/Nathan_Test/ESUS 41\n",
      "/raid/mpsych/CACTAS/DATA/Nathan_Test/ESUS 57\n",
      "/raid/mpsych/CACTAS/DATA/Nathan_Test/ESUS 51\n",
      "/raid/mpsych/CACTAS/DATA/Nathan_Test/ESUS 53\n",
      "/raid/mpsych/CACTAS/DATA/Nathan_Test/ESUS 83\n",
      "/raid/mpsych/CACTAS/DATA/Nathan_Test/ESUS 47\n",
      "/raid/mpsych/CACTAS/DATA/Nathan_Test/ESUS 15\n",
      "/raid/mpsych/CACTAS/DATA/Nathan_Test/ESUS 61\n",
      "/raid/mpsych/CACTAS/DATA/Nathan_Test/ESUS 9\n",
      "/raid/mpsych/CACTAS/DATA/Nathan_Test/ESUS 35\n",
      "/raid/mpsych/CACTAS/DATA/Nathan_Test/ESUS 46\n",
      "/raid/mpsych/CACTAS/DATA/Nathan_Test/ESUS 14\n",
      "/raid/mpsych/CACTAS/DATA/Nathan_Test/ESUS 33\n",
      "/raid/mpsych/CACTAS/DATA/Nathan_Test/ESUS 27\n",
      "/raid/mpsych/CACTAS/DATA/Nathan_Test/ESUS 50\n",
      "/raid/mpsych/CACTAS/DATA/Nathan_Test/ESUS 32\n",
      "/raid/mpsych/CACTAS/DATA/Nathan_Test/ESUS 73\n",
      "/raid/mpsych/CACTAS/DATA/Nathan_Test/ESUS 48\n",
      "/raid/mpsych/CACTAS/DATA/Nathan_Test/ESUS 93\n",
      "/raid/mpsych/CACTAS/DATA/Nathan_Test/ESUS 75\n",
      "/raid/mpsych/CACTAS/DATA/Nathan_Test/ESUS 84\n",
      "/raid/mpsych/CACTAS/DATA/Nathan_Test/ESUS 66\n",
      "/raid/mpsych/CACTAS/DATA/Nathan_Test/ESUS 2\n",
      "/raid/mpsych/CACTAS/DATA/Nathan_Test/ESUS 5\n",
      "/raid/mpsych/CACTAS/DATA/Nathan_Test/ESUS 10\n",
      "/raid/mpsych/CACTAS/DATA/Nathan_Test/ESUS 64\n"
     ]
    }
   ],
   "source": [
    "for root, dirs, files in os.walk('/raid/mpsych/CACTAS/DATA/Nathan_Test'):\n",
    "    print(root)"
   ]
  },
  {
   "cell_type": "code",
   "execution_count": 3,
   "id": "3fc5f4d0",
   "metadata": {},
   "outputs": [
    {
     "name": "stdout",
     "output_type": "stream",
     "text": [
      "/raid/mpsych/CACTAS/DATA/Nathan Arnett Calcification/ ['DICOM 90', 'DICOM 23', 'DICOM 13', 'DICOM 7', 'DICOM 18', 'DICOM 72', 'DICOM 82', 'DICOM 12-checked', 'DICOM 62', 'DICOM 88', 'DICOM 97', 'DICOM 87', 'DICOM 29', 'DICOM 79', 'DICOM 92', 'DICOM 96', 'DICOM 51', 'DICOM 40', 'DICOM 77', 'DICOM 45', 'DICOM 25', 'DICOM 71', 'DICOM 6', 'DICOM 69', 'DICOM 21', 'DICOM 16', 'DICOM 61', 'DICOM 22', 'DICOM 31', 'DICOM 24', 'DICOM 12', 'DICOM 26', 'DICOM 17', 'DICOM 49', 'DICOM 63', 'DICOM 36'] ['labels.npy', 'symp_cropped.npy', 'symp_cropped_no_norm.npy', 'images.npy', 'asymp_cropped_no_norm.npy', 'asymp_cropped.npy', 'images_cropped.npy', 'ESUS_cal.xlsx', 'labels_cropped.npy']\n",
      "/raid/mpsych/CACTAS/DATA/Nathan Arnett Calcification/DICOM 90 [] ['12 Unnamed Series.nrrd', 'Segmentation.seg.nrrd']\n",
      "/raid/mpsych/CACTAS/DATA/Nathan Arnett Calcification/DICOM 23 [] ['12 Unnamed Series.nrrd', 'Segmentation.seg.nrrd']\n",
      "/raid/mpsych/CACTAS/DATA/Nathan Arnett Calcification/DICOM 13 [] ['4 Unnamed Series.nrrd', 'Segmentation.seg.nrrd']\n",
      "/raid/mpsych/CACTAS/DATA/Nathan Arnett Calcification/DICOM 7 [] ['Segmentation.seg.nrrd', '11 Unnamed Series.nrrd']\n",
      "/raid/mpsych/CACTAS/DATA/Nathan Arnett Calcification/DICOM 18 [] ['Segmentation.seg.nrrd', '6 Unnamed Series.nrrd']\n",
      "/raid/mpsych/CACTAS/DATA/Nathan Arnett Calcification/DICOM 72 [] ['4 Unnamed Series.nrrd', 'Segmentation.seg.nrrd']\n",
      "/raid/mpsych/CACTAS/DATA/Nathan Arnett Calcification/DICOM 82 [] ['Segmentation.seg.nrrd', '6 Unnamed Series.nrrd']\n",
      "/raid/mpsych/CACTAS/DATA/Nathan Arnett Calcification/DICOM 12-checked [] ['ESUS12c_7 Unnamed Series.nrrd', 'ESUS12c_Segmentation.seg.nrrd']\n",
      "/raid/mpsych/CACTAS/DATA/Nathan Arnett Calcification/DICOM 62 [] ['5 Unnamed Series.nrrd', 'Segmentation.seg.nrrd']\n",
      "/raid/mpsych/CACTAS/DATA/Nathan Arnett Calcification/DICOM 88 [] ['Segmentation.seg.nrrd', '7 Unnamed Series.nrrd']\n",
      "/raid/mpsych/CACTAS/DATA/Nathan Arnett Calcification/DICOM 97 [] ['5 Unnamed Series.nrrd', 'Segmentation.seg.nrrd']\n",
      "/raid/mpsych/CACTAS/DATA/Nathan Arnett Calcification/DICOM 87 [] ['Segmentation.seg.nrrd', '9 Unnamed Series.nrrd']\n",
      "/raid/mpsych/CACTAS/DATA/Nathan Arnett Calcification/DICOM 29 [] ['8 Unnamed Series.nrrd', 'Segmentation.seg.nrrd']\n",
      "/raid/mpsych/CACTAS/DATA/Nathan Arnett Calcification/DICOM 79 [] ['5 Unnamed Series.nrrd', 'Segmentation.seg.nrrd']\n",
      "/raid/mpsych/CACTAS/DATA/Nathan Arnett Calcification/DICOM 92 [] ['5 Unnamed Series.nrrd', 'Segmentation.seg.nrrd']\n",
      "/raid/mpsych/CACTAS/DATA/Nathan Arnett Calcification/DICOM 96 [] ['4 Unnamed Series.nrrd', 'Segmentation.seg.nrrd']\n",
      "/raid/mpsych/CACTAS/DATA/Nathan Arnett Calcification/DICOM 51 [] ['Segmentation.seg.nrrd', '6 Unnamed Series.nrrd']\n",
      "/raid/mpsych/CACTAS/DATA/Nathan Arnett Calcification/DICOM 40 [] ['12 Unnamed Series.nrrd', 'Segmentation.seg.nrrd']\n",
      "/raid/mpsych/CACTAS/DATA/Nathan Arnett Calcification/DICOM 77 [] ['5 Unnamed Series.nrrd', 'Segmentation.seg.nrrd']\n",
      "/raid/mpsych/CACTAS/DATA/Nathan Arnett Calcification/DICOM 45 [] ['5 Unnamed Series.nrrd', 'Segmentation.seg.nrrd']\n",
      "/raid/mpsych/CACTAS/DATA/Nathan Arnett Calcification/DICOM 25 [] ['Segmentation.seg.nrrd', '7 Unnamed Series.nrrd']\n",
      "/raid/mpsych/CACTAS/DATA/Nathan Arnett Calcification/DICOM 71 [] ['Segmentation.seg.nrrd', '7 Unnamed Series.nrrd']\n",
      "/raid/mpsych/CACTAS/DATA/Nathan Arnett Calcification/DICOM 6 [] ['4 Unnamed Series.nrrd', 'Segmentation.seg.nrrd']\n",
      "/raid/mpsych/CACTAS/DATA/Nathan Arnett Calcification/DICOM 69 [] ['4 Unnamed Series.nrrd', 'Segmentation.seg.nrrd']\n",
      "/raid/mpsych/CACTAS/DATA/Nathan Arnett Calcification/DICOM 21 [] ['5 Unnamed Series.nrrd', 'Segmentation.seg.nrrd']\n",
      "/raid/mpsych/CACTAS/DATA/Nathan Arnett Calcification/DICOM 16 [] ['4 Unnamed Series.nrrd', 'Segmentation.seg.nrrd']\n",
      "/raid/mpsych/CACTAS/DATA/Nathan Arnett Calcification/DICOM 61 [] ['4 Unnamed Series.nrrd', 'Segmentation.seg.nrrd']\n",
      "/raid/mpsych/CACTAS/DATA/Nathan Arnett Calcification/DICOM 22 [] ['Segmentation.seg.nrrd', '6 Unnamed Series.nrrd']\n",
      "/raid/mpsych/CACTAS/DATA/Nathan Arnett Calcification/DICOM 31 [] ['8 Unnamed Series.nrrd', 'Segmentation.seg.nrrd']\n",
      "/raid/mpsych/CACTAS/DATA/Nathan Arnett Calcification/DICOM 24 [] ['5 Unnamed Series.nrrd', 'Segmentation.seg.nrrd']\n",
      "/raid/mpsych/CACTAS/DATA/Nathan Arnett Calcification/DICOM 12 [] ['ESUS 12_7 Unnamed Series.nrrd', 'ESUS12_Segmentation.seg.nrrd']\n",
      "/raid/mpsych/CACTAS/DATA/Nathan Arnett Calcification/DICOM 26 [] ['Segmentation.seg.nrrd', '10 Unnamed Series.nrrd']\n",
      "/raid/mpsych/CACTAS/DATA/Nathan Arnett Calcification/DICOM 17 [] ['5 Unnamed Series.nrrd', 'Segmentation.seg.nrrd']\n",
      "/raid/mpsych/CACTAS/DATA/Nathan Arnett Calcification/DICOM 49 [] ['Segmentation.seg.nrrd', '9 Unnamed Series.nrrd']\n",
      "/raid/mpsych/CACTAS/DATA/Nathan Arnett Calcification/DICOM 63 [] ['5 Unnamed Series.nrrd', 'Segmentation.seg.nrrd']\n",
      "/raid/mpsych/CACTAS/DATA/Nathan Arnett Calcification/DICOM 36 [] ['Segmentation.seg.nrrd', '11 Unnamed Series.nrrd']\n"
     ]
    }
   ],
   "source": [
    "for root, dirs, files in os.walk('/raid/mpsych/CACTAS/DATA/Nathan Arnett Calcification/'):\n",
    "    print(root, dirs, files)"
   ]
  },
  {
   "cell_type": "code",
   "execution_count": 4,
   "id": "9e9f4e42",
   "metadata": {},
   "outputs": [],
   "source": [
    "#os.makedirs('/raid/mpsych/CACTAS/DATA/ESUS')"
   ]
  },
  {
   "cell_type": "code",
   "execution_count": 4,
   "id": "5e379a14",
   "metadata": {},
   "outputs": [],
   "source": [
    "import shutil\n",
    "import re"
   ]
  },
  {
   "cell_type": "code",
   "execution_count": 8,
   "id": "57e144ee",
   "metadata": {},
   "outputs": [
    {
     "ename": "SyntaxError",
     "evalue": "unexpected EOF while parsing (1036399832.py, line 4)",
     "output_type": "error",
     "traceback": [
      "\u001b[0;36m  File \u001b[0;32m\"/tmp/ipykernel_3587666/1036399832.py\"\u001b[0;36m, line \u001b[0;32m4\u001b[0m\n\u001b[0;31m    print(parts[1]\u001b[0m\n\u001b[0m                  ^\u001b[0m\n\u001b[0;31mSyntaxError\u001b[0m\u001b[0;31m:\u001b[0m unexpected EOF while parsing\n"
     ]
    }
   ],
   "source": [
    "for root, dirs, files in os.walk('/raid/mpsych/CACTAS/DATA/Nathan_Test'):\n",
    "    for d in dirs:\n",
    "        parts = d.split(' ')\n",
    "        print(parts[1]"
   ]
  },
  {
   "cell_type": "code",
   "execution_count": 7,
   "id": "1de919cc",
   "metadata": {},
   "outputs": [
    {
     "name": "stdout",
     "output_type": "stream",
     "text": [
      "90\n",
      "23\n",
      "13\n",
      "7\n",
      "18\n",
      "72\n",
      "82\n",
      "12-checked\n",
      "62\n",
      "88\n",
      "97\n",
      "87\n",
      "29\n",
      "79\n",
      "92\n",
      "96\n",
      "51\n",
      "40\n",
      "77\n",
      "45\n",
      "25\n",
      "71\n",
      "6\n",
      "69\n",
      "21\n",
      "16\n",
      "61\n",
      "22\n",
      "31\n",
      "24\n",
      "12\n",
      "26\n",
      "17\n",
      "49\n",
      "63\n",
      "36\n"
     ]
    }
   ],
   "source": [
    "for root, dirs, files in os.walk('/raid/mpsych/CACTAS/DATA/Nathan Arnett Calcification/'):\n",
    "    for d in dirs:\n",
    "        parts = d.split(' ')\n",
    "        print(parts[1])\n",
    "        "
   ]
  },
  {
   "cell_type": "code",
   "execution_count": 29,
   "id": "f02410b9",
   "metadata": {},
   "outputs": [
    {
     "data": {
      "text/plain": [
       "'ESUS 91'"
      ]
     },
     "execution_count": 29,
     "metadata": {},
     "output_type": "execute_result"
    }
   ],
   "source": [
    "os.listdir('/raid/mpsych/CACTAS/DATA/Nathan_Test')[0]"
   ]
  },
  {
   "cell_type": "code",
   "execution_count": 3,
   "id": "a6973e54",
   "metadata": {},
   "outputs": [
    {
     "name": "stdout",
     "output_type": "stream",
     "text": [
      "/raid/mpsych/CACTAS/DATA/Nathan_Test/ESUS 91/\n",
      "/raid/mpsych/CACTAS/DATA/Nathan_Test/ESUS 52/\n",
      "/raid/mpsych/CACTAS/DATA/Nathan_Test/ESUS 39/\n",
      "/raid/mpsych/CACTAS/DATA/Nathan_Test/ESUS 94/\n",
      "/raid/mpsych/CACTAS/DATA/Nathan_Test/ESUS 86/\n",
      "/raid/mpsych/CACTAS/DATA/Nathan_Test/ESUS 41/\n",
      "/raid/mpsych/CACTAS/DATA/Nathan_Test/ESUS 57/\n",
      "/raid/mpsych/CACTAS/DATA/Nathan_Test/ESUS 51/\n",
      "/raid/mpsych/CACTAS/DATA/Nathan_Test/ESUS 53/\n",
      "/raid/mpsych/CACTAS/DATA/Nathan_Test/ESUS 83/\n",
      "/raid/mpsych/CACTAS/DATA/Nathan_Test/ESUS 47/\n",
      "/raid/mpsych/CACTAS/DATA/Nathan_Test/ESUS 15/\n",
      "/raid/mpsych/CACTAS/DATA/Nathan_Test/ESUS 61/\n",
      "/raid/mpsych/CACTAS/DATA/Nathan_Test/ESUS 9/\n",
      "/raid/mpsych/CACTAS/DATA/Nathan_Test/ESUS 35/\n",
      "/raid/mpsych/CACTAS/DATA/Nathan_Test/ESUS 46/\n",
      "/raid/mpsych/CACTAS/DATA/Nathan_Test/ESUS 14/\n",
      "/raid/mpsych/CACTAS/DATA/Nathan_Test/ESUS 33/\n",
      "/raid/mpsych/CACTAS/DATA/Nathan_Test/ESUS 27/\n",
      "/raid/mpsych/CACTAS/DATA/Nathan_Test/ESUS 50/\n",
      "/raid/mpsych/CACTAS/DATA/Nathan_Test/ESUS 32/\n",
      "/raid/mpsych/CACTAS/DATA/Nathan_Test/ESUS 73/\n",
      "/raid/mpsych/CACTAS/DATA/Nathan_Test/ESUS 48/\n",
      "/raid/mpsych/CACTAS/DATA/Nathan_Test/ESUS 93/\n",
      "/raid/mpsych/CACTAS/DATA/Nathan_Test/ESUS 75/\n",
      "/raid/mpsych/CACTAS/DATA/Nathan_Test/ESUS 84/\n",
      "/raid/mpsych/CACTAS/DATA/Nathan_Test/ESUS 66/\n",
      "/raid/mpsych/CACTAS/DATA/Nathan_Test/ESUS 2/\n",
      "/raid/mpsych/CACTAS/DATA/Nathan_Test/ESUS 5/\n",
      "/raid/mpsych/CACTAS/DATA/Nathan_Test/ESUS 10/\n",
      "/raid/mpsych/CACTAS/DATA/Nathan_Test/ESUS 64/\n"
     ]
    }
   ],
   "source": [
    "import glob\n",
    "import re\n",
    " \n",
    "rootdir = '/raid/mpsych/CACTAS/DATA/Nathan_Test'\n",
    "for path in glob.glob(f'{rootdir}/*/', recursive=True):\n",
    "    print(path)\n",
    "    #for i in path:\n",
    "    #    print(i)\n",
    "    \n",
    "    #if(path.startswith('/raid/mpsych/CACTAS/DATA/Nathan_Test/ESUS ')):\n",
    "        #regex = re.compile(r'\\d+')\n",
    "        #regex = re.findall(\"\\d+\", s)[]\n",
    "        #parts = path.split('/')\n",
    "        #print(parts[6])\n",
    "        #regex = re.findall(\"\\d+\", parts[6])\n",
    "        #print(regex)"
   ]
  },
  {
   "cell_type": "code",
   "execution_count": null,
   "id": "040612f1",
   "metadata": {},
   "outputs": [],
   "source": [
    "files = os.listdir(folder)\n",
    "size1 = os.path.getsize(folder+'/'+files[0])\n",
    "size2 = os.path.getsize(folder+'/'+files[1])\n",
    "\n",
    "if size1 < size2:\n",
    "    segmentation = files[0]\n",
    "    image = files[1]\n",
    "else:\n",
    "    segmentation = files[1]\n",
    "    image = files[0]"
   ]
  },
  {
   "cell_type": "code",
   "execution_count": 34,
   "id": "b9435112",
   "metadata": {},
   "outputs": [
    {
     "name": "stdout",
     "output_type": "stream",
     "text": [
      "[]\n"
     ]
    }
   ],
   "source": [
    "target_directory = '/raid/mpsych/CACTAS/DATA/ESUS/'\n",
    "files = os.listdir(target_directory)\n",
    "print(files)"
   ]
  },
  {
   "cell_type": "code",
   "execution_count": 39,
   "id": "d1624e54",
   "metadata": {},
   "outputs": [],
   "source": [
    "target_directory = '/raid/mpsych/CACTAS/DATA/ESUS/'\n",
    "curr_direc = '/raid/mpsych/CACTAS/DATA/Nathan_Test/'\n",
    "path = os.listdir('/raid/mpsych/CACTAS/DATA/Nathan_Test')\n",
    "for i in range(len(path)):\n",
    "    for x in os.listdir(curr_direc + path[i]):\n",
    "        #print(curr_direc + path[i] + \"/\" +x)\n",
    "        if x.endswith(\"_Segmentation.seg.nrrd\"):\n",
    "            #num = re.findall(r\"\\d+\",x)\n",
    "            #print(num)\n",
    "            shutil.copy(curr_direc + path[i] + \"/\" + x, target_directory)\n",
    "        elif x.endswith(\"Series.nrrd\"):\n",
    "            shutil.copy(curr_direc + path[i] + \"/\" + x, target_directory)"
   ]
  },
  {
   "cell_type": "code",
   "execution_count": 56,
   "id": "35ee3215",
   "metadata": {},
   "outputs": [
    {
     "name": "stdout",
     "output_type": "stream",
     "text": [
      "['5.img.nrrd', '33.a.seg.nrrd', '14.a.seg.nrrd', '9.img.nrrd', '27.a.seg.nrrd', '39.a.seg.nrrd', '64.a.seg.nrrd', '51.a.seg.nrrd', '35.img.nrrd', '51.img.nrrd', '66.img.nrrd', '91.img.nrrd', '5.a.seg.nrrd', '15.img.nrrd', '52.img.nrrd', '50.a.seg.nrrd', '86.img.nrrd', '91.a.seg.nrrd', '33.img.nrrd', '46.img.nrrd', '53.img.nrrd', '50.img.nrrd', '83.img.nrrd', '52.a.seg.nrrd', '47.a.seg.nrrd', '64.img.nrrd', '61.a.seg.nrrd', '10.img.nrrd', '2.img.nrrd', '73.a.seg.nrrd', '66.a.seg.nrrd', '93.a.seg.nrrd', '83.a.seg.nrrd', '84.img.nrrd', '41.a.seg.nrrd', '61.img.nrrd', '94.img.nrrd', '27.img.nrrd', '48.a.seg.nrrd', '14.img.nrrd', '75.img.nrrd', '84.a.seg.nrrd', '10.a.seg.nrrd', '41.img.nrrd', '57.img.nrrd', '9.a.seg.nrrd', '32.img.nrrd', '75.a.seg.nrrd', '53.a.seg.nrrd', '73.img.nrrd', '32.a.seg.nrrd', '46.a.seg.nrrd', '57.a.seg.nrrd', '48.img.nrrd', '93.img.nrrd', '2.a.seg.nrrd', '15.a.seg.nrrd', '47.img.nrrd', '86.a.seg.nrrd', '94.a.seg.nrrd', '35.a.seg.nrrd', '39.img.nrrd']\n",
      "62\n"
     ]
    }
   ],
   "source": [
    "target_directory = '/raid/mpsych/CACTAS/DATA/ESUS/'\n",
    "files = os.listdir(target_directory)\n",
    "print(files)\n",
    "print(len(files))"
   ]
  },
  {
   "cell_type": "code",
   "execution_count": 55,
   "id": "ec9da007",
   "metadata": {},
   "outputs": [],
   "source": [
    "target_directory = '/raid/mpsych/CACTAS/DATA/ESUS/'\n",
    "files = os.listdir(target_directory)\n",
    "for x in files:\n",
    "    #print(x)\n",
    "    if x.endswith(\"_Segmentation.seg.nrrd\"):\n",
    "        num = re.findall(r\"\\d+\", x)\n",
    "        #for i in num:\n",
    "            #print(i)\n",
    "            #os.rename(target_directory + x, target_directory + i + \".a.seg.nrrd\")\n",
    "    if x.endswith(\"Series.nrrd\"):\n",
    "        #num = re.findall(r\"\\d+_\", x)\n",
    "        num = re.search(r'ESUS (.*?)_', x).group(1)\n",
    "        #print(num)\n",
    "        os.rename(target_directory + x, target_directory + num + \".img.nrrd\")"
   ]
  },
  {
   "cell_type": "code",
   "execution_count": 51,
   "id": "8b8832f4",
   "metadata": {},
   "outputs": [],
   "source": [
    "target_directory = '/raid/mpsych/CACTAS/DATA/ESUS/'\n",
    "curr_direc = '/raid/mpsych/CACTAS/DATA/Nathan Arnett Calcification/'\n",
    "path = os.listdir('/raid/mpsych/CACTAS/DATA/Nathan Arnett Calcification/')\n",
    "\n",
    "for root, dirs, files in os.walk('/raid/mpsych/CACTAS/DATA/Nathan Arnett Calcification/'):\n",
    "\n",
    "    for i in range(len(dirs)):\n",
    "        #print(\"dirs: \" + dirs[i])\n",
    "        if dirs[i] != 'DICOM 12':\n",
    "            num = re.findall(r\"\\d+\", dirs[i])\n",
    "            #print(num) # ex- 90, 23...\n",
    "            for x in os.listdir(curr_direc + dirs[i]):\n",
    "                #print(\"x: \"+ x)\n",
    "                if x.endswith(\"Series.nrrd\"):\n",
    "                    if j == '51':\n",
    "                        shutil.copy(curr_direc + dirs[i] + \"/\" + x, target_directory + j + \"d.img.nrrd\")\n",
    "                    if j == '61':\n",
    "                        shutil.copy(curr_direc + dirs[i] + \"/\" + x, target_directory + j + \"d.img.nrrd\")\n",
    "                    for j in num:\n",
    "                        #print(\"j: \" + j)\n",
    "                        shutil.copy(curr_direc + dirs[i] + \"/\" + x, target_directory + j + \".img.nrrd\")\n",
    "                if x.endswith(\"seg.nrrd\"):\n",
    "                    if j == '51':\n",
    "                        shutil.copy(curr_direc + dirs[i] + \"/\" + x, target_directory + j + \"d.seg.nrrd\")\n",
    "                    if j == '61':\n",
    "                        shutil.copy(curr_direc + dirs[i] + \"/\" + x, target_directory + j + \"d.seg.nrrd\")\n",
    "                    for j in num:\n",
    "                        #print(\"j: \" + j)\n",
    "                        shutil.copy(curr_direc + dirs[i] + \"/\" + x, target_directory + j + \".seg.nrrd\")"
   ]
  },
  {
   "cell_type": "code",
   "execution_count": 53,
   "id": "d23d8ce7",
   "metadata": {},
   "outputs": [
    {
     "name": "stdout",
     "output_type": "stream",
     "text": [
      "['5.img.nrrd', '18.img.nrrd', '24.img.nrrd', '33.a.seg.nrrd', '14.a.seg.nrrd', '9.img.nrrd', '23.img.nrrd', '97.img.nrrd', '69.img.nrrd', '27.a.seg.nrrd', '39.a.seg.nrrd', '64.a.seg.nrrd', '45.img.nrrd', '40.seg.nrrd', '51.a.seg.nrrd', '62.seg.nrrd', '90.seg.nrrd', '35.img.nrrd', '36.seg.nrrd', '21.img.nrrd', '51.img.nrrd', '66.img.nrrd', '26.seg.nrrd', '91.img.nrrd', '5.a.seg.nrrd', '63.img.nrrd', '97.seg.nrrd', '25.seg.nrrd', '18.seg.nrrd', '15.img.nrrd', '82.seg.nrrd', '52.img.nrrd', '50.a.seg.nrrd', '17.seg.nrrd', '26.img.nrrd', '86.img.nrrd', '79.seg.nrrd', '91.a.seg.nrrd', '33.img.nrrd', '6.img.nrrd', '87.seg.nrrd', '46.img.nrrd', '61d.seg.nrrd', '63.seg.nrrd', '69.seg.nrrd', '53.img.nrrd', '12.img.nrrd', '50.img.nrrd', '83.img.nrrd', '92.img.nrrd', '52.a.seg.nrrd', '6.seg.nrrd', '47.a.seg.nrrd', '51d.seg.nrrd', '49.seg.nrrd', '64.img.nrrd', '96.img.nrrd', '61.a.seg.nrrd', '24.seg.nrrd', '23.seg.nrrd', '31.seg.nrrd', '62.img.nrrd', '13.img.nrrd', '10.img.nrrd', '2.img.nrrd', '73.a.seg.nrrd', '31.img.nrrd', '79.img.nrrd', '66.a.seg.nrrd', '96.seg.nrrd', '29.img.nrrd', '49.img.nrrd', '93.a.seg.nrrd', '83.a.seg.nrrd', '22.seg.nrrd', '84.img.nrrd', '71.img.nrrd', '41.a.seg.nrrd', '61.img.nrrd', '94.img.nrrd', '27.img.nrrd', '21.seg.nrrd', '72.img.nrrd', '48.a.seg.nrrd', '14.img.nrrd', '77.seg.nrrd', '75.img.nrrd', '84.a.seg.nrrd', '10.a.seg.nrrd', '72.seg.nrrd', '45.seg.nrrd', '16.img.nrrd', '88.img.nrrd', '12.seg.nrrd', '7.seg.nrrd', '41.img.nrrd', '92.seg.nrrd', '7.img.nrrd', '51d.img.nrrd', '16.seg.nrrd', '22.img.nrrd', '57.img.nrrd', '9.a.seg.nrrd', '71.seg.nrrd', '36.img.nrrd', '32.img.nrrd', '75.a.seg.nrrd', '53.a.seg.nrrd', '73.img.nrrd', '88.seg.nrrd', '40.img.nrrd', '32.a.seg.nrrd', '46.a.seg.nrrd', '57.a.seg.nrrd', '90.img.nrrd', '48.img.nrrd', '17.img.nrrd', '93.img.nrrd', '29.seg.nrrd', '82.img.nrrd', '77.img.nrrd', '25.img.nrrd', '2.a.seg.nrrd', '15.a.seg.nrrd', '47.img.nrrd', '13.seg.nrrd', '86.a.seg.nrrd', '94.a.seg.nrrd', '61d.img.nrrd', '87.img.nrrd', '35.a.seg.nrrd', '39.img.nrrd']\n",
      "132\n"
     ]
    }
   ],
   "source": [
    "target_directory = '/raid/mpsych/CACTAS/DATA/ESUS/'\n",
    "files = os.listdir(target_directory)\n",
    "print(files)\n",
    "print(len(files))"
   ]
  },
  {
   "cell_type": "code",
   "execution_count": null,
   "id": "d1e3a4e0",
   "metadata": {},
   "outputs": [],
   "source": []
  }
 ],
 "metadata": {
  "kernelspec": {
   "display_name": "Python 3 (ipykernel)",
   "language": "python",
   "name": "python3"
  },
  "language_info": {
   "codemirror_mode": {
    "name": "ipython",
    "version": 3
   },
   "file_extension": ".py",
   "mimetype": "text/x-python",
   "name": "python",
   "nbconvert_exporter": "python",
   "pygments_lexer": "ipython3",
   "version": "3.9.7"
  }
 },
 "nbformat": 4,
 "nbformat_minor": 5
}
