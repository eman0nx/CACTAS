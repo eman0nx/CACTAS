{
 "cells": [
  {
   "cell_type": "code",
   "execution_count": null,
   "id": "6cd1745e",
   "metadata": {},
   "outputs": [],
   "source": [
    "import os\n",
    "import shutil\n",
    "import re"
   ]
  },
  {
   "cell_type": "code",
   "execution_count": null,
   "id": "223034ac",
   "metadata": {},
   "outputs": [],
   "source": [
    "# move ESUS dataset"
   ]
  },
  {
   "cell_type": "code",
   "execution_count": null,
   "id": "9a11c694",
   "metadata": {},
   "outputs": [],
   "source": [
    "target_directory = '/raid/mpsych/CACTAS/DATA/ESUS/'\n",
    "curr_direc = '/raid/mpsych/CACTAS/DATA/Nathan_Test/'\n",
    "path = os.listdir('/raid/mpsych/CACTAS/DATA/Nathan_Test')\n",
    "for i in range(len(path)):\n",
    "    for x in os.listdir(curr_direc + path[i]):\n",
    "        #print(curr_direc + path[i] + \"/\" +x)\n",
    "        if x.endswith(\"_Segmentation.seg.nrrd\"):\n",
    "            #num = re.findall(r\"\\d+\",x)\n",
    "            #print(num)\n",
    "            shutil.copy(curr_direc + path[i] + \"/\" + x, target_directory)\n",
    "        elif x.endswith(\"Series.nrrd\"):\n",
    "            shutil.copy(curr_direc + path[i] + \"/\" + x, target_directory)"
   ]
  },
  {
   "cell_type": "code",
   "execution_count": null,
   "id": "bbf93fac",
   "metadata": {},
   "outputs": [],
   "source": [
    "# rename ESUS dataset"
   ]
  },
  {
   "cell_type": "code",
   "execution_count": null,
   "id": "5b2b92ee",
   "metadata": {},
   "outputs": [],
   "source": [
    "target_directory = '/raid/mpsych/CACTAS/DATA/ESUS/'\n",
    "files = os.listdir(target_directory)\n",
    "for x in files:\n",
    "    #print(x)\n",
    "    if x.endswith(\"_Segmentation.seg.nrrd\"):\n",
    "        num = re.findall(r\"\\d+\", x)\n",
    "        #for i in num:\n",
    "            #print(i)\n",
    "            #os.rename(target_directory + x, target_directory + i + \".a.seg.nrrd\")\n",
    "    if x.endswith(\"Series.nrrd\"):\n",
    "        #num = re.findall(r\"\\d+_\", x)\n",
    "        num = re.search(r'ESUS (.*?)_', x).group(1)\n",
    "        #print(num)\n",
    "        os.rename(target_directory + x, target_directory + num + \".img.nrrd\")"
   ]
  },
  {
   "cell_type": "code",
   "execution_count": null,
   "id": "bcdb8ad8",
   "metadata": {},
   "outputs": [],
   "source": [
    "# rename and move DICOM dataset"
   ]
  },
  {
   "cell_type": "code",
   "execution_count": null,
   "id": "30b9c205",
   "metadata": {},
   "outputs": [],
   "source": [
    "target_directory = '/raid/mpsych/CACTAS/DATA/ESUS/'\n",
    "curr_direc = '/raid/mpsych/CACTAS/DATA/Nathan Arnett Calcification/'\n",
    "path = os.listdir('/raid/mpsych/CACTAS/DATA/Nathan Arnett Calcification/')\n",
    "\n",
    "for root, dirs, files in os.walk('/raid/mpsych/CACTAS/DATA/Nathan Arnett Calcification/'):\n",
    "\n",
    "    for i in range(len(dirs)):\n",
    "        #print(\"dirs: \" + dirs[i])\n",
    "        if dirs[i] != 'DICOM 12':\n",
    "            num = re.findall(r\"\\d+\", dirs[i])\n",
    "            #print(num) # ex- 90, 23...\n",
    "            for x in os.listdir(curr_direc + dirs[i]):\n",
    "                #print(\"x: \"+ x)\n",
    "                if x.endswith(\"Series.nrrd\"):\n",
    "                    if j == '51':\n",
    "                        shutil.copy(curr_direc + dirs[i] + \"/\" + x, target_directory + j + \"d.img.nrrd\")\n",
    "                    if j == '61':\n",
    "                        shutil.copy(curr_direc + dirs[i] + \"/\" + x, target_directory + j + \"d.img.nrrd\")\n",
    "                    for j in num:\n",
    "                        #print(\"j: \" + j)\n",
    "                        shutil.copy(curr_direc + dirs[i] + \"/\" + x, target_directory + j + \".img.nrrd\")\n",
    "                if x.endswith(\"seg.nrrd\"):\n",
    "                    if j == '51':\n",
    "                        shutil.copy(curr_direc + dirs[i] + \"/\" + x, target_directory + j + \"d.seg.nrrd\")\n",
    "                    if j == '61':\n",
    "                        shutil.copy(curr_direc + dirs[i] + \"/\" + x, target_directory + j + \"d.seg.nrrd\")\n",
    "                    for j in num:\n",
    "                        #print(\"j: \" + j)\n",
    "                        shutil.copy(curr_direc + dirs[i] + \"/\" + x, target_directory + j + \".seg.nrrd\")"
   ]
  },
  {
   "cell_type": "code",
   "execution_count": null,
   "id": "db31429c",
   "metadata": {},
   "outputs": [],
   "source": [
    "# check ESUS folder"
   ]
  },
  {
   "cell_type": "code",
   "execution_count": null,
   "id": "6a002fdc",
   "metadata": {},
   "outputs": [],
   "source": [
    "target_directory = '/raid/mpsych/CACTAS/DATA/ESUS/'\n",
    "files = os.listdir(target_directory)\n",
    "print(files)\n",
    "print(len(files))"
   ]
  }
 ],
 "metadata": {
  "kernelspec": {
   "display_name": "Python 3 (ipykernel)",
   "language": "python",
   "name": "python3"
  },
  "language_info": {
   "codemirror_mode": {
    "name": "ipython",
    "version": 3
   },
   "file_extension": ".py",
   "mimetype": "text/x-python",
   "name": "python",
   "nbconvert_exporter": "python",
   "pygments_lexer": "ipython3",
   "version": "3.9.7"
  }
 },
 "nbformat": 4,
 "nbformat_minor": 5
}
