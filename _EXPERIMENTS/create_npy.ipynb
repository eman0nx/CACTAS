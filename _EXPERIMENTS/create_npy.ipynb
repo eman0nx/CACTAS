{
 "cells": [
  {
   "cell_type": "code",
   "execution_count": 1,
   "id": "1770680c",
   "metadata": {},
   "outputs": [
    {
     "name": "stdout",
     "output_type": "stream",
     "text": [
      "Populating the interactive namespace from numpy and matplotlib\n"
     ]
    }
   ],
   "source": [
    "%pylab inline\n",
    "import os\n",
    "import nrrd"
   ]
  },
  {
   "cell_type": "code",
   "execution_count": 2,
   "id": "6fcc32f8",
   "metadata": {},
   "outputs": [],
   "source": [
    "DATAPATH = '/raid/mpsych/CACTAS/DATA/ESUS/'"
   ]
  },
  {
   "cell_type": "code",
   "execution_count": null,
   "id": "cc8a77e2",
   "metadata": {},
   "outputs": [],
   "source": []
  },
  {
   "cell_type": "code",
   "execution_count": 7,
   "id": "bbb316a6",
   "metadata": {},
   "outputs": [],
   "source": [
    "all_slices = []\n",
    "data = {}\n",
    "start = []\n",
    "count = 0\n",
    "ids = []\n",
    "for f in os.listdir(DATAPATH):\n",
    "    if f.endswith('img.nrrd'):\n",
    "        current_id = f.split('.')[0]\n",
    "        ids.append(current_id)\n",
    "        im, h = nrrd.read(DATAPATH + current_id + '.img.nrrd')\n",
    "        \n",
    "        for z in range(im.shape[2]):\n",
    "            all_slices.append(im[:, :, z])\n",
    "\n",
    "        for i,key1 in enumerate(ids):\n",
    "            start.append(count)\n",
    "            data[key1] = start[i]\n",
    "            count += (im.shape[2])"
   ]
  },
  {
   "cell_type": "code",
   "execution_count": 8,
   "id": "eec4dd0a",
   "metadata": {},
   "outputs": [
    {
     "data": {
      "text/plain": [
       "{'5': 0,\n",
       " '18': 201,\n",
       " '24': 412,\n",
       " '9': 623,\n",
       " '23': 868,\n",
       " '97': 1113,\n",
       " '69': 1358,\n",
       " '45': 1599,\n",
       " '35': 1840,\n",
       " '21': 2081,\n",
       " '51': 2322,\n",
       " '66': 2537,\n",
       " '91': 2752,\n",
       " '63': 2967,\n",
       " '15': 3182,\n",
       " '52': 3397,\n",
       " '26': 3614,\n",
       " '86': 3831,\n",
       " '33': 4048,\n",
       " '6': 4265,\n",
       " '46': 4482,\n",
       " '53': 4699,\n",
       " '12': 4931,\n",
       " '50': 5163,\n",
       " '83': 5395,\n",
       " '92': 5627,\n",
       " '64': 5859,\n",
       " '96': 6091,\n",
       " '62': 6323,\n",
       " '13': 6562,\n",
       " '10': 6801,\n",
       " '2': 7040,\n",
       " '31': 7279,\n",
       " '79': 7518,\n",
       " '29': 7757,\n",
       " '49': 7996,\n",
       " '84': 8235,\n",
       " '71': 8474,\n",
       " '61': 8713,\n",
       " '94': 8952,\n",
       " '27': 9191,\n",
       " '72': 9430,\n",
       " '14': 9669,\n",
       " '75': 9908,\n",
       " '16': 10147,\n",
       " '88': 10386,\n",
       " '41': 10618,\n",
       " '7': 10850,\n",
       " '51d': 11082,\n",
       " '22': 11314,\n",
       " '57': 11546,\n",
       " '36': 11778,\n",
       " '32': 12010,\n",
       " '73': 12242,\n",
       " '40': 12474,\n",
       " '90': 12706,\n",
       " '48': 13096,\n",
       " '17': 13486,\n",
       " '93': 13876,\n",
       " '82': 14266,\n",
       " '77': 14656,\n",
       " '25': 15046,\n",
       " '47': 15436,\n",
       " '61d': 15826,\n",
       " '87': 16216,\n",
       " '39': 16606}"
      ]
     },
     "execution_count": 8,
     "metadata": {},
     "output_type": "execute_result"
    }
   ],
   "source": [
    "data"
   ]
  },
  {
   "cell_type": "code",
   "execution_count": 9,
   "id": "401edb27",
   "metadata": {},
   "outputs": [],
   "source": [
    "a = np.zeros((len(all_slices), all_slices[0].shape[0], all_slices[0].shape[1]), dtype=all_slices[0].dtype)"
   ]
  },
  {
   "cell_type": "code",
   "execution_count": 10,
   "id": "cf88dac9",
   "metadata": {},
   "outputs": [
    {
     "data": {
      "text/plain": [
       "15290"
      ]
     },
     "execution_count": 10,
     "metadata": {},
     "output_type": "execute_result"
    }
   ],
   "source": [
    "len(all_slices)"
   ]
  },
  {
   "cell_type": "code",
   "execution_count": 11,
   "id": "d829c1ec",
   "metadata": {},
   "outputs": [
    {
     "data": {
      "text/plain": [
       "(15290, 512, 512)"
      ]
     },
     "execution_count": 11,
     "metadata": {},
     "output_type": "execute_result"
    }
   ],
   "source": [
    "a.shape"
   ]
  },
  {
   "cell_type": "code",
   "execution_count": 12,
   "id": "3bf4c1ff",
   "metadata": {},
   "outputs": [],
   "source": [
    "for i, s in enumerate(all_slices):\n",
    "    a[i] = s"
   ]
  },
  {
   "cell_type": "code",
   "execution_count": 13,
   "id": "f8a4eb11",
   "metadata": {},
   "outputs": [
    {
     "data": {
      "text/plain": [
       "array([[-1005, -1005, -1003, ...,   167,   171,   153],\n",
       "       [-1005, -1008, -1006, ...,   165,   186,   179],\n",
       "       [-1001, -1003, -1004, ...,   138,   171,   185],\n",
       "       ...,\n",
       "       [ -999, -1000, -1001, ...,  -833,  -816,  -817],\n",
       "       [-1001, -1001, -1002, ...,  -829,  -818,  -817],\n",
       "       [ -998,  -998,  -998, ...,  -838,  -832,  -824]], dtype=int16)"
      ]
     },
     "execution_count": 13,
     "metadata": {},
     "output_type": "execute_result"
    }
   ],
   "source": [
    "a[0]"
   ]
  },
  {
   "cell_type": "code",
   "execution_count": 14,
   "id": "477fbb64",
   "metadata": {},
   "outputs": [
    {
     "data": {
      "text/plain": [
       "array([[-1020, -1020, -1020, ...,  -997,  -996,  -996],\n",
       "       [-1012, -1012, -1014, ...,  -997,  -998,  -998],\n",
       "       [-1007, -1007, -1008, ..., -1000, -1001, -1000],\n",
       "       ...,\n",
       "       [-1006, -1007, -1006, ..., -1008, -1008, -1007],\n",
       "       [-1010, -1011, -1011, ..., -1004, -1002, -1003],\n",
       "       [-1005, -1008, -1009, ...,  -998,  -997,  -999]], dtype=int16)"
      ]
     },
     "execution_count": 14,
     "metadata": {},
     "output_type": "execute_result"
    }
   ],
   "source": [
    "a[15289]"
   ]
  },
  {
   "cell_type": "code",
   "execution_count": 15,
   "id": "cbc861bb",
   "metadata": {},
   "outputs": [],
   "source": [
    "np.save(DATAPATH + 'image.npy', a)"
   ]
  },
  {
   "cell_type": "code",
   "execution_count": 16,
   "id": "25323bb0",
   "metadata": {},
   "outputs": [],
   "source": [
    "images_file = os.path.join(DATAPATH, 'image.npy')\n",
    "images = np.load(images_file)"
   ]
  },
  {
   "cell_type": "code",
   "execution_count": 17,
   "id": "d4539334",
   "metadata": {},
   "outputs": [
    {
     "data": {
      "text/plain": [
       "(15290, 512, 512)"
      ]
     },
     "execution_count": 17,
     "metadata": {},
     "output_type": "execute_result"
    }
   ],
   "source": [
    "images.shape"
   ]
  },
  {
   "cell_type": "code",
   "execution_count": 18,
   "id": "21e41b9c",
   "metadata": {},
   "outputs": [
    {
     "data": {
      "text/plain": [
       "3"
      ]
     },
     "execution_count": 18,
     "metadata": {},
     "output_type": "execute_result"
    }
   ],
   "source": [
    "images.ndim"
   ]
  },
  {
   "cell_type": "code",
   "execution_count": null,
   "id": "45a118b1",
   "metadata": {},
   "outputs": [],
   "source": []
  },
  {
   "cell_type": "code",
   "execution_count": 20,
   "id": "cc681f55",
   "metadata": {},
   "outputs": [],
   "source": [
    "all_slice = []\n",
    "datas = {}\n",
    "starts = []\n",
    "counts = 0\n",
    "id_s = []\n",
    "\n",
    "for f in os.listdir(DATAPATH):\n",
    "    if f.endswith('seg.nrrd'):\n",
    "        current_id = f.split('.')[0]\n",
    "        id_s.append(current_id)\n",
    "        im, h = nrrd.read(DATAPATH + f)\n",
    "\n",
    "        for z in range(im.shape[2]):\n",
    "            all_slice.append(im[:, :, z])\n",
    "            \n",
    "        for i,key1 in enumerate(id_s):\n",
    "            starts.append(counts)\n",
    "            datas[key1] = starts[i]\n",
    "            counts += (im.shape[2])"
   ]
  },
  {
   "cell_type": "code",
   "execution_count": 21,
   "id": "56aa4aeb",
   "metadata": {},
   "outputs": [
    {
     "data": {
      "text/plain": [
       "{'33': 0,\n",
       " '14': 258,\n",
       " '27': 513,\n",
       " '39': 768,\n",
       " '64': 984,\n",
       " '40': 1200,\n",
       " '51': 1416,\n",
       " '62': 1661,\n",
       " '90': 1906,\n",
       " '36': 2151,\n",
       " '26': 2396,\n",
       " '5': 2633,\n",
       " '97': 2870,\n",
       " '25': 3107,\n",
       " '18': 3344,\n",
       " '82': 3581,\n",
       " '50': 3802,\n",
       " '17': 4023,\n",
       " '79': 4244,\n",
       " '91': 4465,\n",
       " '87': 4686,\n",
       " '61d': 4907,\n",
       " '63': 5297,\n",
       " '69': 5687,\n",
       " '52': 6077,\n",
       " '6': 6467,\n",
       " '47': 6857,\n",
       " '51d': 7247,\n",
       " '49': 7637,\n",
       " '61': 7905,\n",
       " '24': 8173,\n",
       " '23': 8441,\n",
       " '31': 8709,\n",
       " '73': 8977,\n",
       " '66': 9245,\n",
       " '96': 9513,\n",
       " '93': 9781,\n",
       " '83': 9997,\n",
       " '22': 10213,\n",
       " '41': 10429,\n",
       " '21': 10645,\n",
       " '48': 10861,\n",
       " '77': 11077,\n",
       " '84': 11293,\n",
       " '10': 11509,\n",
       " '72': 11725,\n",
       " '45': 11946,\n",
       " '12': 12167,\n",
       " '7': 12388,\n",
       " '92': 12609,\n",
       " '16': 12830,\n",
       " '9': 13051,\n",
       " '71': 13272,\n",
       " '75': 13493,\n",
       " '53': 13714,\n",
       " '88': 13935,\n",
       " '32': 14175,\n",
       " '46': 14415,\n",
       " '57': 14655,\n",
       " '29': 14895,\n",
       " '2': 15135,\n",
       " '15': 15375,\n",
       " '13': 15615,\n",
       " '86': 15855,\n",
       " '94': 16095,\n",
       " '35': 16335}"
      ]
     },
     "execution_count": 21,
     "metadata": {},
     "output_type": "execute_result"
    }
   ],
   "source": [
    "datas"
   ]
  },
  {
   "cell_type": "code",
   "execution_count": 22,
   "id": "f016b6df",
   "metadata": {},
   "outputs": [],
   "source": [
    "b = np.zeros((len(all_slice), all_slice[0].shape[0], all_slice[0].shape[1]), dtype=all_slice[0].dtype)"
   ]
  },
  {
   "cell_type": "code",
   "execution_count": 23,
   "id": "a6e0be88",
   "metadata": {},
   "outputs": [],
   "source": [
    "for i, s in enumerate(all_slice):\n",
    "    b[i] = s"
   ]
  },
  {
   "cell_type": "code",
   "execution_count": 24,
   "id": "b1136ff3",
   "metadata": {},
   "outputs": [],
   "source": [
    "np.save(DATAPATH + 'label.npy', b)"
   ]
  },
  {
   "cell_type": "code",
   "execution_count": 25,
   "id": "20a30865",
   "metadata": {},
   "outputs": [],
   "source": [
    "labels_file = os.path.join(DATAPATH, 'label.npy')\n",
    "labels = np.load(labels_file)"
   ]
  },
  {
   "cell_type": "code",
   "execution_count": 26,
   "id": "38776c12",
   "metadata": {},
   "outputs": [
    {
     "data": {
      "text/plain": [
       "(15290, 512, 512)"
      ]
     },
     "execution_count": 26,
     "metadata": {},
     "output_type": "execute_result"
    }
   ],
   "source": [
    "labels.shape"
   ]
  },
  {
   "cell_type": "code",
   "execution_count": 27,
   "id": "a485b418",
   "metadata": {},
   "outputs": [
    {
     "data": {
      "text/plain": [
       "3"
      ]
     },
     "execution_count": 27,
     "metadata": {},
     "output_type": "execute_result"
    }
   ],
   "source": [
    "labels.ndim"
   ]
  },
  {
   "cell_type": "code",
   "execution_count": null,
   "id": "519d7f21",
   "metadata": {},
   "outputs": [],
   "source": []
  },
  {
   "cell_type": "code",
   "execution_count": null,
   "id": "bbe96d0d",
   "metadata": {},
   "outputs": [],
   "source": []
  }
 ],
 "metadata": {
  "kernelspec": {
   "display_name": "Python 3 (ipykernel)",
   "language": "python",
   "name": "python3"
  },
  "language_info": {
   "codemirror_mode": {
    "name": "ipython",
    "version": 3
   },
   "file_extension": ".py",
   "mimetype": "text/x-python",
   "name": "python",
   "nbconvert_exporter": "python",
   "pygments_lexer": "ipython3",
   "version": "3.9.7"
  }
 },
 "nbformat": 4,
 "nbformat_minor": 5
}
