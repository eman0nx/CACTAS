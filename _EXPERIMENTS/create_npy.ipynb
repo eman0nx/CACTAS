{
 "cells": [
  {
   "cell_type": "code",
   "execution_count": 1,
   "id": "1770680c",
   "metadata": {},
   "outputs": [
    {
     "name": "stdout",
     "output_type": "stream",
     "text": [
      "Populating the interactive namespace from numpy and matplotlib\n"
     ]
    }
   ],
   "source": [
    "%pylab inline\n",
    "import os\n",
    "import nrrd"
   ]
  },
  {
   "cell_type": "code",
   "execution_count": 2,
   "id": "6fcc32f8",
   "metadata": {},
   "outputs": [],
   "source": [
    "DATAPATH = '/raid/mpsych/CACTAS/DATA/ESUS/'"
   ]
  },
  {
   "cell_type": "code",
   "execution_count": null,
   "id": "cc8a77e2",
   "metadata": {},
   "outputs": [],
   "source": []
  },
  {
   "cell_type": "code",
   "execution_count": 33,
   "id": "bbb316a6",
   "metadata": {},
   "outputs": [],
   "source": [
    "all_slices = []\n",
    "\n",
    "for f in os.listdir(DATAPATH):\n",
    "    if f.endswith('img.nrrd'):\n",
    "        current_id = f.split('.')[0]\n",
    "        im, h = nrrd.read(DATAPATH + current_id + '.img.nrrd')\n",
    "\n",
    "        for z in range(im.shape[2]):\n",
    "            all_slices.append(im[:, :, z])"
   ]
  },
  {
   "cell_type": "code",
   "execution_count": 34,
   "id": "401edb27",
   "metadata": {},
   "outputs": [],
   "source": [
    "a = np.zeros((len(all_slices), all_slices[0].shape[0], all_slices[0].shape[1]), dtype=all_slices[0].dtype)"
   ]
  },
  {
   "cell_type": "code",
   "execution_count": 35,
   "id": "3bf4c1ff",
   "metadata": {},
   "outputs": [],
   "source": [
    "for i, s in enumerate(all_slices):\n",
    "    a[i] = s"
   ]
  },
  {
   "cell_type": "code",
   "execution_count": 36,
   "id": "9932d3fb",
   "metadata": {},
   "outputs": [],
   "source": [
    "#np.save(DATAPATH + 'image.npy', a)"
   ]
  },
  {
   "cell_type": "code",
   "execution_count": 37,
   "id": "25323bb0",
   "metadata": {},
   "outputs": [],
   "source": [
    "images_file = os.path.join(DATAPATH, 'image.npy')\n",
    "images = np.load(images_file)"
   ]
  },
  {
   "cell_type": "code",
   "execution_count": 38,
   "id": "d4539334",
   "metadata": {},
   "outputs": [
    {
     "data": {
      "text/plain": [
       "(15290, 512, 512)"
      ]
     },
     "execution_count": 38,
     "metadata": {},
     "output_type": "execute_result"
    }
   ],
   "source": [
    "images.shape"
   ]
  },
  {
   "cell_type": "code",
   "execution_count": 39,
   "id": "21e41b9c",
   "metadata": {},
   "outputs": [
    {
     "data": {
      "text/plain": [
       "3"
      ]
     },
     "execution_count": 39,
     "metadata": {},
     "output_type": "execute_result"
    }
   ],
   "source": [
    "images.ndim"
   ]
  },
  {
   "cell_type": "code",
   "execution_count": null,
   "id": "309ed673",
   "metadata": {},
   "outputs": [],
   "source": []
  },
  {
   "cell_type": "code",
   "execution_count": null,
   "id": "45a118b1",
   "metadata": {},
   "outputs": [],
   "source": []
  },
  {
   "cell_type": "code",
   "execution_count": 26,
   "id": "cc681f55",
   "metadata": {},
   "outputs": [],
   "source": [
    "all_slice = []\n",
    "\n",
    "for f in os.listdir(DATAPATH):\n",
    "    if f.endswith('seg.nrrd'):\n",
    "        im, h = nrrd.read(DATAPATH + f)\n",
    "\n",
    "        for z in range(im.shape[2]):\n",
    "            all_slice.append(im[:, :, z])"
   ]
  },
  {
   "cell_type": "code",
   "execution_count": 27,
   "id": "f016b6df",
   "metadata": {},
   "outputs": [],
   "source": [
    "b = np.zeros((len(all_slice), all_slice[0].shape[0], all_slice[0].shape[1]), dtype=all_slice[0].dtype)"
   ]
  },
  {
   "cell_type": "code",
   "execution_count": 28,
   "id": "a6e0be88",
   "metadata": {},
   "outputs": [],
   "source": [
    "for i, s in enumerate(all_slice):\n",
    "    b[i] = s"
   ]
  },
  {
   "cell_type": "code",
   "execution_count": 30,
   "id": "b1136ff3",
   "metadata": {},
   "outputs": [],
   "source": [
    "#np.save(DATAPATH + 'label.npy', b)"
   ]
  },
  {
   "cell_type": "code",
   "execution_count": 31,
   "id": "20a30865",
   "metadata": {},
   "outputs": [],
   "source": [
    "labels_file = os.path.join(DATAPATH, 'label.npy')\n",
    "labels = np.load(labels_file)"
   ]
  },
  {
   "cell_type": "code",
   "execution_count": 32,
   "id": "38776c12",
   "metadata": {},
   "outputs": [
    {
     "data": {
      "text/plain": [
       "(15290, 512, 512)"
      ]
     },
     "execution_count": 32,
     "metadata": {},
     "output_type": "execute_result"
    }
   ],
   "source": [
    "labels.shape"
   ]
  },
  {
   "cell_type": "code",
   "execution_count": 40,
   "id": "a485b418",
   "metadata": {},
   "outputs": [
    {
     "data": {
      "text/plain": [
       "3"
      ]
     },
     "execution_count": 40,
     "metadata": {},
     "output_type": "execute_result"
    }
   ],
   "source": [
    "labels.ndim"
   ]
  },
  {
   "cell_type": "code",
   "execution_count": null,
   "id": "519d7f21",
   "metadata": {},
   "outputs": [],
   "source": []
  },
  {
   "cell_type": "code",
   "execution_count": null,
   "id": "bbe96d0d",
   "metadata": {},
   "outputs": [],
   "source": []
  }
 ],
 "metadata": {
  "kernelspec": {
   "display_name": "Python 3 (ipykernel)",
   "language": "python",
   "name": "python3"
  },
  "language_info": {
   "codemirror_mode": {
    "name": "ipython",
    "version": 3
   },
   "file_extension": ".py",
   "mimetype": "text/x-python",
   "name": "python",
   "nbconvert_exporter": "python",
   "pygments_lexer": "ipython3",
   "version": "3.9.7"
  }
 },
 "nbformat": 4,
 "nbformat_minor": 5
}
